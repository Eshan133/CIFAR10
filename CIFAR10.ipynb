{
  "nbformat": 4,
  "nbformat_minor": 0,
  "metadata": {
    "colab": {
      "provenance": [],
      "toc_visible": true,
      "gpuType": "T4",
      "authorship_tag": "ABX9TyNz64iY3FlAoi4dSE83h+oB",
      "include_colab_link": true
    },
    "kernelspec": {
      "name": "python3",
      "display_name": "Python 3"
    },
    "language_info": {
      "name": "python"
    },
    "widgets": {
      "application/vnd.jupyter.widget-state+json": {
        "bb636b0b3cbf49bf80a009ccce5ceda6": {
          "model_module": "@jupyter-widgets/controls",
          "model_name": "HBoxModel",
          "model_module_version": "1.5.0",
          "state": {
            "_dom_classes": [],
            "_model_module": "@jupyter-widgets/controls",
            "_model_module_version": "1.5.0",
            "_model_name": "HBoxModel",
            "_view_count": null,
            "_view_module": "@jupyter-widgets/controls",
            "_view_module_version": "1.5.0",
            "_view_name": "HBoxView",
            "box_style": "",
            "children": [
              "IPY_MODEL_ee311fd63517485bb270ea804c3c41e4",
              "IPY_MODEL_cd3f85d740be4e5a82c3cc765b7f88c2",
              "IPY_MODEL_caea01c04d97432dbf5217de59f032aa"
            ],
            "layout": "IPY_MODEL_6566f5b90f6749928f33adfe7924e7ea"
          }
        },
        "ee311fd63517485bb270ea804c3c41e4": {
          "model_module": "@jupyter-widgets/controls",
          "model_name": "HTMLModel",
          "model_module_version": "1.5.0",
          "state": {
            "_dom_classes": [],
            "_model_module": "@jupyter-widgets/controls",
            "_model_module_version": "1.5.0",
            "_model_name": "HTMLModel",
            "_view_count": null,
            "_view_module": "@jupyter-widgets/controls",
            "_view_module_version": "1.5.0",
            "_view_name": "HTMLView",
            "description": "",
            "description_tooltip": null,
            "layout": "IPY_MODEL_15d956cdf9ee466c9e7b99ba421ff5d9",
            "placeholder": "​",
            "style": "IPY_MODEL_15523e0075814aa08ea7fea8a8f7ff0e",
            "value": "100%"
          }
        },
        "cd3f85d740be4e5a82c3cc765b7f88c2": {
          "model_module": "@jupyter-widgets/controls",
          "model_name": "FloatProgressModel",
          "model_module_version": "1.5.0",
          "state": {
            "_dom_classes": [],
            "_model_module": "@jupyter-widgets/controls",
            "_model_module_version": "1.5.0",
            "_model_name": "FloatProgressModel",
            "_view_count": null,
            "_view_module": "@jupyter-widgets/controls",
            "_view_module_version": "1.5.0",
            "_view_name": "ProgressView",
            "bar_style": "success",
            "description": "",
            "description_tooltip": null,
            "layout": "IPY_MODEL_b6b6b51963be42a292aa0ca12559cc18",
            "max": 5,
            "min": 0,
            "orientation": "horizontal",
            "style": "IPY_MODEL_bae8f3a6dea949e287d362f174188161",
            "value": 5
          }
        },
        "caea01c04d97432dbf5217de59f032aa": {
          "model_module": "@jupyter-widgets/controls",
          "model_name": "HTMLModel",
          "model_module_version": "1.5.0",
          "state": {
            "_dom_classes": [],
            "_model_module": "@jupyter-widgets/controls",
            "_model_module_version": "1.5.0",
            "_model_name": "HTMLModel",
            "_view_count": null,
            "_view_module": "@jupyter-widgets/controls",
            "_view_module_version": "1.5.0",
            "_view_name": "HTMLView",
            "description": "",
            "description_tooltip": null,
            "layout": "IPY_MODEL_d7125f3fc9e845a5991b39d0bf3ee0d2",
            "placeholder": "​",
            "style": "IPY_MODEL_ef47b11a90aa423494c4fc7c5d4e175b",
            "value": " 5/5 [00:58&lt;00:00, 11.64s/it]"
          }
        },
        "6566f5b90f6749928f33adfe7924e7ea": {
          "model_module": "@jupyter-widgets/base",
          "model_name": "LayoutModel",
          "model_module_version": "1.2.0",
          "state": {
            "_model_module": "@jupyter-widgets/base",
            "_model_module_version": "1.2.0",
            "_model_name": "LayoutModel",
            "_view_count": null,
            "_view_module": "@jupyter-widgets/base",
            "_view_module_version": "1.2.0",
            "_view_name": "LayoutView",
            "align_content": null,
            "align_items": null,
            "align_self": null,
            "border": null,
            "bottom": null,
            "display": null,
            "flex": null,
            "flex_flow": null,
            "grid_area": null,
            "grid_auto_columns": null,
            "grid_auto_flow": null,
            "grid_auto_rows": null,
            "grid_column": null,
            "grid_gap": null,
            "grid_row": null,
            "grid_template_areas": null,
            "grid_template_columns": null,
            "grid_template_rows": null,
            "height": null,
            "justify_content": null,
            "justify_items": null,
            "left": null,
            "margin": null,
            "max_height": null,
            "max_width": null,
            "min_height": null,
            "min_width": null,
            "object_fit": null,
            "object_position": null,
            "order": null,
            "overflow": null,
            "overflow_x": null,
            "overflow_y": null,
            "padding": null,
            "right": null,
            "top": null,
            "visibility": null,
            "width": null
          }
        },
        "15d956cdf9ee466c9e7b99ba421ff5d9": {
          "model_module": "@jupyter-widgets/base",
          "model_name": "LayoutModel",
          "model_module_version": "1.2.0",
          "state": {
            "_model_module": "@jupyter-widgets/base",
            "_model_module_version": "1.2.0",
            "_model_name": "LayoutModel",
            "_view_count": null,
            "_view_module": "@jupyter-widgets/base",
            "_view_module_version": "1.2.0",
            "_view_name": "LayoutView",
            "align_content": null,
            "align_items": null,
            "align_self": null,
            "border": null,
            "bottom": null,
            "display": null,
            "flex": null,
            "flex_flow": null,
            "grid_area": null,
            "grid_auto_columns": null,
            "grid_auto_flow": null,
            "grid_auto_rows": null,
            "grid_column": null,
            "grid_gap": null,
            "grid_row": null,
            "grid_template_areas": null,
            "grid_template_columns": null,
            "grid_template_rows": null,
            "height": null,
            "justify_content": null,
            "justify_items": null,
            "left": null,
            "margin": null,
            "max_height": null,
            "max_width": null,
            "min_height": null,
            "min_width": null,
            "object_fit": null,
            "object_position": null,
            "order": null,
            "overflow": null,
            "overflow_x": null,
            "overflow_y": null,
            "padding": null,
            "right": null,
            "top": null,
            "visibility": null,
            "width": null
          }
        },
        "15523e0075814aa08ea7fea8a8f7ff0e": {
          "model_module": "@jupyter-widgets/controls",
          "model_name": "DescriptionStyleModel",
          "model_module_version": "1.5.0",
          "state": {
            "_model_module": "@jupyter-widgets/controls",
            "_model_module_version": "1.5.0",
            "_model_name": "DescriptionStyleModel",
            "_view_count": null,
            "_view_module": "@jupyter-widgets/base",
            "_view_module_version": "1.2.0",
            "_view_name": "StyleView",
            "description_width": ""
          }
        },
        "b6b6b51963be42a292aa0ca12559cc18": {
          "model_module": "@jupyter-widgets/base",
          "model_name": "LayoutModel",
          "model_module_version": "1.2.0",
          "state": {
            "_model_module": "@jupyter-widgets/base",
            "_model_module_version": "1.2.0",
            "_model_name": "LayoutModel",
            "_view_count": null,
            "_view_module": "@jupyter-widgets/base",
            "_view_module_version": "1.2.0",
            "_view_name": "LayoutView",
            "align_content": null,
            "align_items": null,
            "align_self": null,
            "border": null,
            "bottom": null,
            "display": null,
            "flex": null,
            "flex_flow": null,
            "grid_area": null,
            "grid_auto_columns": null,
            "grid_auto_flow": null,
            "grid_auto_rows": null,
            "grid_column": null,
            "grid_gap": null,
            "grid_row": null,
            "grid_template_areas": null,
            "grid_template_columns": null,
            "grid_template_rows": null,
            "height": null,
            "justify_content": null,
            "justify_items": null,
            "left": null,
            "margin": null,
            "max_height": null,
            "max_width": null,
            "min_height": null,
            "min_width": null,
            "object_fit": null,
            "object_position": null,
            "order": null,
            "overflow": null,
            "overflow_x": null,
            "overflow_y": null,
            "padding": null,
            "right": null,
            "top": null,
            "visibility": null,
            "width": null
          }
        },
        "bae8f3a6dea949e287d362f174188161": {
          "model_module": "@jupyter-widgets/controls",
          "model_name": "ProgressStyleModel",
          "model_module_version": "1.5.0",
          "state": {
            "_model_module": "@jupyter-widgets/controls",
            "_model_module_version": "1.5.0",
            "_model_name": "ProgressStyleModel",
            "_view_count": null,
            "_view_module": "@jupyter-widgets/base",
            "_view_module_version": "1.2.0",
            "_view_name": "StyleView",
            "bar_color": null,
            "description_width": ""
          }
        },
        "d7125f3fc9e845a5991b39d0bf3ee0d2": {
          "model_module": "@jupyter-widgets/base",
          "model_name": "LayoutModel",
          "model_module_version": "1.2.0",
          "state": {
            "_model_module": "@jupyter-widgets/base",
            "_model_module_version": "1.2.0",
            "_model_name": "LayoutModel",
            "_view_count": null,
            "_view_module": "@jupyter-widgets/base",
            "_view_module_version": "1.2.0",
            "_view_name": "LayoutView",
            "align_content": null,
            "align_items": null,
            "align_self": null,
            "border": null,
            "bottom": null,
            "display": null,
            "flex": null,
            "flex_flow": null,
            "grid_area": null,
            "grid_auto_columns": null,
            "grid_auto_flow": null,
            "grid_auto_rows": null,
            "grid_column": null,
            "grid_gap": null,
            "grid_row": null,
            "grid_template_areas": null,
            "grid_template_columns": null,
            "grid_template_rows": null,
            "height": null,
            "justify_content": null,
            "justify_items": null,
            "left": null,
            "margin": null,
            "max_height": null,
            "max_width": null,
            "min_height": null,
            "min_width": null,
            "object_fit": null,
            "object_position": null,
            "order": null,
            "overflow": null,
            "overflow_x": null,
            "overflow_y": null,
            "padding": null,
            "right": null,
            "top": null,
            "visibility": null,
            "width": null
          }
        },
        "ef47b11a90aa423494c4fc7c5d4e175b": {
          "model_module": "@jupyter-widgets/controls",
          "model_name": "DescriptionStyleModel",
          "model_module_version": "1.5.0",
          "state": {
            "_model_module": "@jupyter-widgets/controls",
            "_model_module_version": "1.5.0",
            "_model_name": "DescriptionStyleModel",
            "_view_count": null,
            "_view_module": "@jupyter-widgets/base",
            "_view_module_version": "1.2.0",
            "_view_name": "StyleView",
            "description_width": ""
          }
        },
        "6238ec552fc44ddb909a0023af41952f": {
          "model_module": "@jupyter-widgets/controls",
          "model_name": "HBoxModel",
          "model_module_version": "1.5.0",
          "state": {
            "_dom_classes": [],
            "_model_module": "@jupyter-widgets/controls",
            "_model_module_version": "1.5.0",
            "_model_name": "HBoxModel",
            "_view_count": null,
            "_view_module": "@jupyter-widgets/controls",
            "_view_module_version": "1.5.0",
            "_view_name": "HBoxView",
            "box_style": "",
            "children": [
              "IPY_MODEL_d871239698bc44a593b7cca1d0963fe5",
              "IPY_MODEL_904fd6d4573e476596da0b99422c7914",
              "IPY_MODEL_1d427b8ba6c8483b88bdb036e97079af"
            ],
            "layout": "IPY_MODEL_bf6d3dc385e9450cafdc5d0071b6b53b"
          }
        },
        "d871239698bc44a593b7cca1d0963fe5": {
          "model_module": "@jupyter-widgets/controls",
          "model_name": "HTMLModel",
          "model_module_version": "1.5.0",
          "state": {
            "_dom_classes": [],
            "_model_module": "@jupyter-widgets/controls",
            "_model_module_version": "1.5.0",
            "_model_name": "HTMLModel",
            "_view_count": null,
            "_view_module": "@jupyter-widgets/controls",
            "_view_module_version": "1.5.0",
            "_view_name": "HTMLView",
            "description": "",
            "description_tooltip": null,
            "layout": "IPY_MODEL_57a95e6c15ee42ddb1c4adda6bc85bc8",
            "placeholder": "​",
            "style": "IPY_MODEL_571a4959e6b24bdcac0c95cf416a5a77",
            "value": "100%"
          }
        },
        "904fd6d4573e476596da0b99422c7914": {
          "model_module": "@jupyter-widgets/controls",
          "model_name": "FloatProgressModel",
          "model_module_version": "1.5.0",
          "state": {
            "_dom_classes": [],
            "_model_module": "@jupyter-widgets/controls",
            "_model_module_version": "1.5.0",
            "_model_name": "FloatProgressModel",
            "_view_count": null,
            "_view_module": "@jupyter-widgets/controls",
            "_view_module_version": "1.5.0",
            "_view_name": "ProgressView",
            "bar_style": "success",
            "description": "",
            "description_tooltip": null,
            "layout": "IPY_MODEL_d2f8b0e36317435abd30353d97f9b77b",
            "max": 10,
            "min": 0,
            "orientation": "horizontal",
            "style": "IPY_MODEL_2469cf66891c4c82810d2949ed172d44",
            "value": 10
          }
        },
        "1d427b8ba6c8483b88bdb036e97079af": {
          "model_module": "@jupyter-widgets/controls",
          "model_name": "HTMLModel",
          "model_module_version": "1.5.0",
          "state": {
            "_dom_classes": [],
            "_model_module": "@jupyter-widgets/controls",
            "_model_module_version": "1.5.0",
            "_model_name": "HTMLModel",
            "_view_count": null,
            "_view_module": "@jupyter-widgets/controls",
            "_view_module_version": "1.5.0",
            "_view_name": "HTMLView",
            "description": "",
            "description_tooltip": null,
            "layout": "IPY_MODEL_88737a19f6dd4bb2af43241e0e1cc1cf",
            "placeholder": "​",
            "style": "IPY_MODEL_26d2598332a24dfe8ffb416b129b5a51",
            "value": " 10/10 [01:57&lt;00:00, 11.75s/it]"
          }
        },
        "bf6d3dc385e9450cafdc5d0071b6b53b": {
          "model_module": "@jupyter-widgets/base",
          "model_name": "LayoutModel",
          "model_module_version": "1.2.0",
          "state": {
            "_model_module": "@jupyter-widgets/base",
            "_model_module_version": "1.2.0",
            "_model_name": "LayoutModel",
            "_view_count": null,
            "_view_module": "@jupyter-widgets/base",
            "_view_module_version": "1.2.0",
            "_view_name": "LayoutView",
            "align_content": null,
            "align_items": null,
            "align_self": null,
            "border": null,
            "bottom": null,
            "display": null,
            "flex": null,
            "flex_flow": null,
            "grid_area": null,
            "grid_auto_columns": null,
            "grid_auto_flow": null,
            "grid_auto_rows": null,
            "grid_column": null,
            "grid_gap": null,
            "grid_row": null,
            "grid_template_areas": null,
            "grid_template_columns": null,
            "grid_template_rows": null,
            "height": null,
            "justify_content": null,
            "justify_items": null,
            "left": null,
            "margin": null,
            "max_height": null,
            "max_width": null,
            "min_height": null,
            "min_width": null,
            "object_fit": null,
            "object_position": null,
            "order": null,
            "overflow": null,
            "overflow_x": null,
            "overflow_y": null,
            "padding": null,
            "right": null,
            "top": null,
            "visibility": null,
            "width": null
          }
        },
        "57a95e6c15ee42ddb1c4adda6bc85bc8": {
          "model_module": "@jupyter-widgets/base",
          "model_name": "LayoutModel",
          "model_module_version": "1.2.0",
          "state": {
            "_model_module": "@jupyter-widgets/base",
            "_model_module_version": "1.2.0",
            "_model_name": "LayoutModel",
            "_view_count": null,
            "_view_module": "@jupyter-widgets/base",
            "_view_module_version": "1.2.0",
            "_view_name": "LayoutView",
            "align_content": null,
            "align_items": null,
            "align_self": null,
            "border": null,
            "bottom": null,
            "display": null,
            "flex": null,
            "flex_flow": null,
            "grid_area": null,
            "grid_auto_columns": null,
            "grid_auto_flow": null,
            "grid_auto_rows": null,
            "grid_column": null,
            "grid_gap": null,
            "grid_row": null,
            "grid_template_areas": null,
            "grid_template_columns": null,
            "grid_template_rows": null,
            "height": null,
            "justify_content": null,
            "justify_items": null,
            "left": null,
            "margin": null,
            "max_height": null,
            "max_width": null,
            "min_height": null,
            "min_width": null,
            "object_fit": null,
            "object_position": null,
            "order": null,
            "overflow": null,
            "overflow_x": null,
            "overflow_y": null,
            "padding": null,
            "right": null,
            "top": null,
            "visibility": null,
            "width": null
          }
        },
        "571a4959e6b24bdcac0c95cf416a5a77": {
          "model_module": "@jupyter-widgets/controls",
          "model_name": "DescriptionStyleModel",
          "model_module_version": "1.5.0",
          "state": {
            "_model_module": "@jupyter-widgets/controls",
            "_model_module_version": "1.5.0",
            "_model_name": "DescriptionStyleModel",
            "_view_count": null,
            "_view_module": "@jupyter-widgets/base",
            "_view_module_version": "1.2.0",
            "_view_name": "StyleView",
            "description_width": ""
          }
        },
        "d2f8b0e36317435abd30353d97f9b77b": {
          "model_module": "@jupyter-widgets/base",
          "model_name": "LayoutModel",
          "model_module_version": "1.2.0",
          "state": {
            "_model_module": "@jupyter-widgets/base",
            "_model_module_version": "1.2.0",
            "_model_name": "LayoutModel",
            "_view_count": null,
            "_view_module": "@jupyter-widgets/base",
            "_view_module_version": "1.2.0",
            "_view_name": "LayoutView",
            "align_content": null,
            "align_items": null,
            "align_self": null,
            "border": null,
            "bottom": null,
            "display": null,
            "flex": null,
            "flex_flow": null,
            "grid_area": null,
            "grid_auto_columns": null,
            "grid_auto_flow": null,
            "grid_auto_rows": null,
            "grid_column": null,
            "grid_gap": null,
            "grid_row": null,
            "grid_template_areas": null,
            "grid_template_columns": null,
            "grid_template_rows": null,
            "height": null,
            "justify_content": null,
            "justify_items": null,
            "left": null,
            "margin": null,
            "max_height": null,
            "max_width": null,
            "min_height": null,
            "min_width": null,
            "object_fit": null,
            "object_position": null,
            "order": null,
            "overflow": null,
            "overflow_x": null,
            "overflow_y": null,
            "padding": null,
            "right": null,
            "top": null,
            "visibility": null,
            "width": null
          }
        },
        "2469cf66891c4c82810d2949ed172d44": {
          "model_module": "@jupyter-widgets/controls",
          "model_name": "ProgressStyleModel",
          "model_module_version": "1.5.0",
          "state": {
            "_model_module": "@jupyter-widgets/controls",
            "_model_module_version": "1.5.0",
            "_model_name": "ProgressStyleModel",
            "_view_count": null,
            "_view_module": "@jupyter-widgets/base",
            "_view_module_version": "1.2.0",
            "_view_name": "StyleView",
            "bar_color": null,
            "description_width": ""
          }
        },
        "88737a19f6dd4bb2af43241e0e1cc1cf": {
          "model_module": "@jupyter-widgets/base",
          "model_name": "LayoutModel",
          "model_module_version": "1.2.0",
          "state": {
            "_model_module": "@jupyter-widgets/base",
            "_model_module_version": "1.2.0",
            "_model_name": "LayoutModel",
            "_view_count": null,
            "_view_module": "@jupyter-widgets/base",
            "_view_module_version": "1.2.0",
            "_view_name": "LayoutView",
            "align_content": null,
            "align_items": null,
            "align_self": null,
            "border": null,
            "bottom": null,
            "display": null,
            "flex": null,
            "flex_flow": null,
            "grid_area": null,
            "grid_auto_columns": null,
            "grid_auto_flow": null,
            "grid_auto_rows": null,
            "grid_column": null,
            "grid_gap": null,
            "grid_row": null,
            "grid_template_areas": null,
            "grid_template_columns": null,
            "grid_template_rows": null,
            "height": null,
            "justify_content": null,
            "justify_items": null,
            "left": null,
            "margin": null,
            "max_height": null,
            "max_width": null,
            "min_height": null,
            "min_width": null,
            "object_fit": null,
            "object_position": null,
            "order": null,
            "overflow": null,
            "overflow_x": null,
            "overflow_y": null,
            "padding": null,
            "right": null,
            "top": null,
            "visibility": null,
            "width": null
          }
        },
        "26d2598332a24dfe8ffb416b129b5a51": {
          "model_module": "@jupyter-widgets/controls",
          "model_name": "DescriptionStyleModel",
          "model_module_version": "1.5.0",
          "state": {
            "_model_module": "@jupyter-widgets/controls",
            "_model_module_version": "1.5.0",
            "_model_name": "DescriptionStyleModel",
            "_view_count": null,
            "_view_module": "@jupyter-widgets/base",
            "_view_module_version": "1.2.0",
            "_view_name": "StyleView",
            "description_width": ""
          }
        },
        "2be9d78fdcb845779ae05b770e42cf9c": {
          "model_module": "@jupyter-widgets/controls",
          "model_name": "HBoxModel",
          "model_module_version": "1.5.0",
          "state": {
            "_dom_classes": [],
            "_model_module": "@jupyter-widgets/controls",
            "_model_module_version": "1.5.0",
            "_model_name": "HBoxModel",
            "_view_count": null,
            "_view_module": "@jupyter-widgets/controls",
            "_view_module_version": "1.5.0",
            "_view_name": "HBoxView",
            "box_style": "",
            "children": [
              "IPY_MODEL_ae1539de9a8c46d3bc4bf0ba8b48fc1b",
              "IPY_MODEL_aff748ebf50e402996513125d37a9c4d",
              "IPY_MODEL_f3fd4e6ece0d4066a5ff21d2d04d5cd9"
            ],
            "layout": "IPY_MODEL_3aa7e53e1d754e7f825f724cea322a8b"
          }
        },
        "ae1539de9a8c46d3bc4bf0ba8b48fc1b": {
          "model_module": "@jupyter-widgets/controls",
          "model_name": "HTMLModel",
          "model_module_version": "1.5.0",
          "state": {
            "_dom_classes": [],
            "_model_module": "@jupyter-widgets/controls",
            "_model_module_version": "1.5.0",
            "_model_name": "HTMLModel",
            "_view_count": null,
            "_view_module": "@jupyter-widgets/controls",
            "_view_module_version": "1.5.0",
            "_view_name": "HTMLView",
            "description": "",
            "description_tooltip": null,
            "layout": "IPY_MODEL_0a52213a10354b8cbbbca69872cd6bb2",
            "placeholder": "​",
            "style": "IPY_MODEL_284f0394984847b3b80dca7232578130",
            "value": "100%"
          }
        },
        "aff748ebf50e402996513125d37a9c4d": {
          "model_module": "@jupyter-widgets/controls",
          "model_name": "FloatProgressModel",
          "model_module_version": "1.5.0",
          "state": {
            "_dom_classes": [],
            "_model_module": "@jupyter-widgets/controls",
            "_model_module_version": "1.5.0",
            "_model_name": "FloatProgressModel",
            "_view_count": null,
            "_view_module": "@jupyter-widgets/controls",
            "_view_module_version": "1.5.0",
            "_view_name": "ProgressView",
            "bar_style": "success",
            "description": "",
            "description_tooltip": null,
            "layout": "IPY_MODEL_a6094fd7aa2c422a8d0aa66c16b555c6",
            "max": 20,
            "min": 0,
            "orientation": "horizontal",
            "style": "IPY_MODEL_0e6d5bb273764a779cb0d57a4202c5df",
            "value": 20
          }
        },
        "f3fd4e6ece0d4066a5ff21d2d04d5cd9": {
          "model_module": "@jupyter-widgets/controls",
          "model_name": "HTMLModel",
          "model_module_version": "1.5.0",
          "state": {
            "_dom_classes": [],
            "_model_module": "@jupyter-widgets/controls",
            "_model_module_version": "1.5.0",
            "_model_name": "HTMLModel",
            "_view_count": null,
            "_view_module": "@jupyter-widgets/controls",
            "_view_module_version": "1.5.0",
            "_view_name": "HTMLView",
            "description": "",
            "description_tooltip": null,
            "layout": "IPY_MODEL_c601b18e9ef348a9b7e2b3be50e3221b",
            "placeholder": "​",
            "style": "IPY_MODEL_dcde6081e8cf40dab2d818c375149180",
            "value": " 20/20 [03:57&lt;00:00, 11.61s/it]"
          }
        },
        "3aa7e53e1d754e7f825f724cea322a8b": {
          "model_module": "@jupyter-widgets/base",
          "model_name": "LayoutModel",
          "model_module_version": "1.2.0",
          "state": {
            "_model_module": "@jupyter-widgets/base",
            "_model_module_version": "1.2.0",
            "_model_name": "LayoutModel",
            "_view_count": null,
            "_view_module": "@jupyter-widgets/base",
            "_view_module_version": "1.2.0",
            "_view_name": "LayoutView",
            "align_content": null,
            "align_items": null,
            "align_self": null,
            "border": null,
            "bottom": null,
            "display": null,
            "flex": null,
            "flex_flow": null,
            "grid_area": null,
            "grid_auto_columns": null,
            "grid_auto_flow": null,
            "grid_auto_rows": null,
            "grid_column": null,
            "grid_gap": null,
            "grid_row": null,
            "grid_template_areas": null,
            "grid_template_columns": null,
            "grid_template_rows": null,
            "height": null,
            "justify_content": null,
            "justify_items": null,
            "left": null,
            "margin": null,
            "max_height": null,
            "max_width": null,
            "min_height": null,
            "min_width": null,
            "object_fit": null,
            "object_position": null,
            "order": null,
            "overflow": null,
            "overflow_x": null,
            "overflow_y": null,
            "padding": null,
            "right": null,
            "top": null,
            "visibility": null,
            "width": null
          }
        },
        "0a52213a10354b8cbbbca69872cd6bb2": {
          "model_module": "@jupyter-widgets/base",
          "model_name": "LayoutModel",
          "model_module_version": "1.2.0",
          "state": {
            "_model_module": "@jupyter-widgets/base",
            "_model_module_version": "1.2.0",
            "_model_name": "LayoutModel",
            "_view_count": null,
            "_view_module": "@jupyter-widgets/base",
            "_view_module_version": "1.2.0",
            "_view_name": "LayoutView",
            "align_content": null,
            "align_items": null,
            "align_self": null,
            "border": null,
            "bottom": null,
            "display": null,
            "flex": null,
            "flex_flow": null,
            "grid_area": null,
            "grid_auto_columns": null,
            "grid_auto_flow": null,
            "grid_auto_rows": null,
            "grid_column": null,
            "grid_gap": null,
            "grid_row": null,
            "grid_template_areas": null,
            "grid_template_columns": null,
            "grid_template_rows": null,
            "height": null,
            "justify_content": null,
            "justify_items": null,
            "left": null,
            "margin": null,
            "max_height": null,
            "max_width": null,
            "min_height": null,
            "min_width": null,
            "object_fit": null,
            "object_position": null,
            "order": null,
            "overflow": null,
            "overflow_x": null,
            "overflow_y": null,
            "padding": null,
            "right": null,
            "top": null,
            "visibility": null,
            "width": null
          }
        },
        "284f0394984847b3b80dca7232578130": {
          "model_module": "@jupyter-widgets/controls",
          "model_name": "DescriptionStyleModel",
          "model_module_version": "1.5.0",
          "state": {
            "_model_module": "@jupyter-widgets/controls",
            "_model_module_version": "1.5.0",
            "_model_name": "DescriptionStyleModel",
            "_view_count": null,
            "_view_module": "@jupyter-widgets/base",
            "_view_module_version": "1.2.0",
            "_view_name": "StyleView",
            "description_width": ""
          }
        },
        "a6094fd7aa2c422a8d0aa66c16b555c6": {
          "model_module": "@jupyter-widgets/base",
          "model_name": "LayoutModel",
          "model_module_version": "1.2.0",
          "state": {
            "_model_module": "@jupyter-widgets/base",
            "_model_module_version": "1.2.0",
            "_model_name": "LayoutModel",
            "_view_count": null,
            "_view_module": "@jupyter-widgets/base",
            "_view_module_version": "1.2.0",
            "_view_name": "LayoutView",
            "align_content": null,
            "align_items": null,
            "align_self": null,
            "border": null,
            "bottom": null,
            "display": null,
            "flex": null,
            "flex_flow": null,
            "grid_area": null,
            "grid_auto_columns": null,
            "grid_auto_flow": null,
            "grid_auto_rows": null,
            "grid_column": null,
            "grid_gap": null,
            "grid_row": null,
            "grid_template_areas": null,
            "grid_template_columns": null,
            "grid_template_rows": null,
            "height": null,
            "justify_content": null,
            "justify_items": null,
            "left": null,
            "margin": null,
            "max_height": null,
            "max_width": null,
            "min_height": null,
            "min_width": null,
            "object_fit": null,
            "object_position": null,
            "order": null,
            "overflow": null,
            "overflow_x": null,
            "overflow_y": null,
            "padding": null,
            "right": null,
            "top": null,
            "visibility": null,
            "width": null
          }
        },
        "0e6d5bb273764a779cb0d57a4202c5df": {
          "model_module": "@jupyter-widgets/controls",
          "model_name": "ProgressStyleModel",
          "model_module_version": "1.5.0",
          "state": {
            "_model_module": "@jupyter-widgets/controls",
            "_model_module_version": "1.5.0",
            "_model_name": "ProgressStyleModel",
            "_view_count": null,
            "_view_module": "@jupyter-widgets/base",
            "_view_module_version": "1.2.0",
            "_view_name": "StyleView",
            "bar_color": null,
            "description_width": ""
          }
        },
        "c601b18e9ef348a9b7e2b3be50e3221b": {
          "model_module": "@jupyter-widgets/base",
          "model_name": "LayoutModel",
          "model_module_version": "1.2.0",
          "state": {
            "_model_module": "@jupyter-widgets/base",
            "_model_module_version": "1.2.0",
            "_model_name": "LayoutModel",
            "_view_count": null,
            "_view_module": "@jupyter-widgets/base",
            "_view_module_version": "1.2.0",
            "_view_name": "LayoutView",
            "align_content": null,
            "align_items": null,
            "align_self": null,
            "border": null,
            "bottom": null,
            "display": null,
            "flex": null,
            "flex_flow": null,
            "grid_area": null,
            "grid_auto_columns": null,
            "grid_auto_flow": null,
            "grid_auto_rows": null,
            "grid_column": null,
            "grid_gap": null,
            "grid_row": null,
            "grid_template_areas": null,
            "grid_template_columns": null,
            "grid_template_rows": null,
            "height": null,
            "justify_content": null,
            "justify_items": null,
            "left": null,
            "margin": null,
            "max_height": null,
            "max_width": null,
            "min_height": null,
            "min_width": null,
            "object_fit": null,
            "object_position": null,
            "order": null,
            "overflow": null,
            "overflow_x": null,
            "overflow_y": null,
            "padding": null,
            "right": null,
            "top": null,
            "visibility": null,
            "width": null
          }
        },
        "dcde6081e8cf40dab2d818c375149180": {
          "model_module": "@jupyter-widgets/controls",
          "model_name": "DescriptionStyleModel",
          "model_module_version": "1.5.0",
          "state": {
            "_model_module": "@jupyter-widgets/controls",
            "_model_module_version": "1.5.0",
            "_model_name": "DescriptionStyleModel",
            "_view_count": null,
            "_view_module": "@jupyter-widgets/base",
            "_view_module_version": "1.2.0",
            "_view_name": "StyleView",
            "description_width": ""
          }
        },
        "fb923208d6cf472c9ffca87c77c6b29c": {
          "model_module": "@jupyter-widgets/controls",
          "model_name": "HBoxModel",
          "model_module_version": "1.5.0",
          "state": {
            "_dom_classes": [],
            "_model_module": "@jupyter-widgets/controls",
            "_model_module_version": "1.5.0",
            "_model_name": "HBoxModel",
            "_view_count": null,
            "_view_module": "@jupyter-widgets/controls",
            "_view_module_version": "1.5.0",
            "_view_name": "HBoxView",
            "box_style": "",
            "children": [
              "IPY_MODEL_18f090fbead34eb4b4e10b9b7ca30c2c",
              "IPY_MODEL_2b5fef7e8a4c441d84797f164bed1ac4",
              "IPY_MODEL_0bf507df99b043a6935b86078476415e"
            ],
            "layout": "IPY_MODEL_a67f730f75684184aae76501a0d2eed1"
          }
        },
        "18f090fbead34eb4b4e10b9b7ca30c2c": {
          "model_module": "@jupyter-widgets/controls",
          "model_name": "HTMLModel",
          "model_module_version": "1.5.0",
          "state": {
            "_dom_classes": [],
            "_model_module": "@jupyter-widgets/controls",
            "_model_module_version": "1.5.0",
            "_model_name": "HTMLModel",
            "_view_count": null,
            "_view_module": "@jupyter-widgets/controls",
            "_view_module_version": "1.5.0",
            "_view_name": "HTMLView",
            "description": "",
            "description_tooltip": null,
            "layout": "IPY_MODEL_f57428b0adc34ff29be0276d60c4c522",
            "placeholder": "​",
            "style": "IPY_MODEL_dc92dab27ae34550971da4c87b60db5d",
            "value": "100%"
          }
        },
        "2b5fef7e8a4c441d84797f164bed1ac4": {
          "model_module": "@jupyter-widgets/controls",
          "model_name": "FloatProgressModel",
          "model_module_version": "1.5.0",
          "state": {
            "_dom_classes": [],
            "_model_module": "@jupyter-widgets/controls",
            "_model_module_version": "1.5.0",
            "_model_name": "FloatProgressModel",
            "_view_count": null,
            "_view_module": "@jupyter-widgets/controls",
            "_view_module_version": "1.5.0",
            "_view_name": "ProgressView",
            "bar_style": "success",
            "description": "",
            "description_tooltip": null,
            "layout": "IPY_MODEL_e554f378773f41dab05529c61d2d37e7",
            "max": 20,
            "min": 0,
            "orientation": "horizontal",
            "style": "IPY_MODEL_5a42640839214f30adc5aea3f708a647",
            "value": 20
          }
        },
        "0bf507df99b043a6935b86078476415e": {
          "model_module": "@jupyter-widgets/controls",
          "model_name": "HTMLModel",
          "model_module_version": "1.5.0",
          "state": {
            "_dom_classes": [],
            "_model_module": "@jupyter-widgets/controls",
            "_model_module_version": "1.5.0",
            "_model_name": "HTMLModel",
            "_view_count": null,
            "_view_module": "@jupyter-widgets/controls",
            "_view_module_version": "1.5.0",
            "_view_name": "HTMLView",
            "description": "",
            "description_tooltip": null,
            "layout": "IPY_MODEL_276f2e7501aa4eaf86f6c0259ca69daa",
            "placeholder": "​",
            "style": "IPY_MODEL_63337ddcc4e04bb9a13ef1f324e1acdd",
            "value": " 20/20 [17:39&lt;00:00, 52.42s/it]"
          }
        },
        "a67f730f75684184aae76501a0d2eed1": {
          "model_module": "@jupyter-widgets/base",
          "model_name": "LayoutModel",
          "model_module_version": "1.2.0",
          "state": {
            "_model_module": "@jupyter-widgets/base",
            "_model_module_version": "1.2.0",
            "_model_name": "LayoutModel",
            "_view_count": null,
            "_view_module": "@jupyter-widgets/base",
            "_view_module_version": "1.2.0",
            "_view_name": "LayoutView",
            "align_content": null,
            "align_items": null,
            "align_self": null,
            "border": null,
            "bottom": null,
            "display": null,
            "flex": null,
            "flex_flow": null,
            "grid_area": null,
            "grid_auto_columns": null,
            "grid_auto_flow": null,
            "grid_auto_rows": null,
            "grid_column": null,
            "grid_gap": null,
            "grid_row": null,
            "grid_template_areas": null,
            "grid_template_columns": null,
            "grid_template_rows": null,
            "height": null,
            "justify_content": null,
            "justify_items": null,
            "left": null,
            "margin": null,
            "max_height": null,
            "max_width": null,
            "min_height": null,
            "min_width": null,
            "object_fit": null,
            "object_position": null,
            "order": null,
            "overflow": null,
            "overflow_x": null,
            "overflow_y": null,
            "padding": null,
            "right": null,
            "top": null,
            "visibility": null,
            "width": null
          }
        },
        "f57428b0adc34ff29be0276d60c4c522": {
          "model_module": "@jupyter-widgets/base",
          "model_name": "LayoutModel",
          "model_module_version": "1.2.0",
          "state": {
            "_model_module": "@jupyter-widgets/base",
            "_model_module_version": "1.2.0",
            "_model_name": "LayoutModel",
            "_view_count": null,
            "_view_module": "@jupyter-widgets/base",
            "_view_module_version": "1.2.0",
            "_view_name": "LayoutView",
            "align_content": null,
            "align_items": null,
            "align_self": null,
            "border": null,
            "bottom": null,
            "display": null,
            "flex": null,
            "flex_flow": null,
            "grid_area": null,
            "grid_auto_columns": null,
            "grid_auto_flow": null,
            "grid_auto_rows": null,
            "grid_column": null,
            "grid_gap": null,
            "grid_row": null,
            "grid_template_areas": null,
            "grid_template_columns": null,
            "grid_template_rows": null,
            "height": null,
            "justify_content": null,
            "justify_items": null,
            "left": null,
            "margin": null,
            "max_height": null,
            "max_width": null,
            "min_height": null,
            "min_width": null,
            "object_fit": null,
            "object_position": null,
            "order": null,
            "overflow": null,
            "overflow_x": null,
            "overflow_y": null,
            "padding": null,
            "right": null,
            "top": null,
            "visibility": null,
            "width": null
          }
        },
        "dc92dab27ae34550971da4c87b60db5d": {
          "model_module": "@jupyter-widgets/controls",
          "model_name": "DescriptionStyleModel",
          "model_module_version": "1.5.0",
          "state": {
            "_model_module": "@jupyter-widgets/controls",
            "_model_module_version": "1.5.0",
            "_model_name": "DescriptionStyleModel",
            "_view_count": null,
            "_view_module": "@jupyter-widgets/base",
            "_view_module_version": "1.2.0",
            "_view_name": "StyleView",
            "description_width": ""
          }
        },
        "e554f378773f41dab05529c61d2d37e7": {
          "model_module": "@jupyter-widgets/base",
          "model_name": "LayoutModel",
          "model_module_version": "1.2.0",
          "state": {
            "_model_module": "@jupyter-widgets/base",
            "_model_module_version": "1.2.0",
            "_model_name": "LayoutModel",
            "_view_count": null,
            "_view_module": "@jupyter-widgets/base",
            "_view_module_version": "1.2.0",
            "_view_name": "LayoutView",
            "align_content": null,
            "align_items": null,
            "align_self": null,
            "border": null,
            "bottom": null,
            "display": null,
            "flex": null,
            "flex_flow": null,
            "grid_area": null,
            "grid_auto_columns": null,
            "grid_auto_flow": null,
            "grid_auto_rows": null,
            "grid_column": null,
            "grid_gap": null,
            "grid_row": null,
            "grid_template_areas": null,
            "grid_template_columns": null,
            "grid_template_rows": null,
            "height": null,
            "justify_content": null,
            "justify_items": null,
            "left": null,
            "margin": null,
            "max_height": null,
            "max_width": null,
            "min_height": null,
            "min_width": null,
            "object_fit": null,
            "object_position": null,
            "order": null,
            "overflow": null,
            "overflow_x": null,
            "overflow_y": null,
            "padding": null,
            "right": null,
            "top": null,
            "visibility": null,
            "width": null
          }
        },
        "5a42640839214f30adc5aea3f708a647": {
          "model_module": "@jupyter-widgets/controls",
          "model_name": "ProgressStyleModel",
          "model_module_version": "1.5.0",
          "state": {
            "_model_module": "@jupyter-widgets/controls",
            "_model_module_version": "1.5.0",
            "_model_name": "ProgressStyleModel",
            "_view_count": null,
            "_view_module": "@jupyter-widgets/base",
            "_view_module_version": "1.2.0",
            "_view_name": "StyleView",
            "bar_color": null,
            "description_width": ""
          }
        },
        "276f2e7501aa4eaf86f6c0259ca69daa": {
          "model_module": "@jupyter-widgets/base",
          "model_name": "LayoutModel",
          "model_module_version": "1.2.0",
          "state": {
            "_model_module": "@jupyter-widgets/base",
            "_model_module_version": "1.2.0",
            "_model_name": "LayoutModel",
            "_view_count": null,
            "_view_module": "@jupyter-widgets/base",
            "_view_module_version": "1.2.0",
            "_view_name": "LayoutView",
            "align_content": null,
            "align_items": null,
            "align_self": null,
            "border": null,
            "bottom": null,
            "display": null,
            "flex": null,
            "flex_flow": null,
            "grid_area": null,
            "grid_auto_columns": null,
            "grid_auto_flow": null,
            "grid_auto_rows": null,
            "grid_column": null,
            "grid_gap": null,
            "grid_row": null,
            "grid_template_areas": null,
            "grid_template_columns": null,
            "grid_template_rows": null,
            "height": null,
            "justify_content": null,
            "justify_items": null,
            "left": null,
            "margin": null,
            "max_height": null,
            "max_width": null,
            "min_height": null,
            "min_width": null,
            "object_fit": null,
            "object_position": null,
            "order": null,
            "overflow": null,
            "overflow_x": null,
            "overflow_y": null,
            "padding": null,
            "right": null,
            "top": null,
            "visibility": null,
            "width": null
          }
        },
        "63337ddcc4e04bb9a13ef1f324e1acdd": {
          "model_module": "@jupyter-widgets/controls",
          "model_name": "DescriptionStyleModel",
          "model_module_version": "1.5.0",
          "state": {
            "_model_module": "@jupyter-widgets/controls",
            "_model_module_version": "1.5.0",
            "_model_name": "DescriptionStyleModel",
            "_view_count": null,
            "_view_module": "@jupyter-widgets/base",
            "_view_module_version": "1.2.0",
            "_view_name": "StyleView",
            "description_width": ""
          }
        }
      }
    },
    "accelerator": "GPU"
  },
  "cells": [
    {
      "cell_type": "markdown",
      "metadata": {
        "id": "view-in-github",
        "colab_type": "text"
      },
      "source": [
        "<a href=\"https://colab.research.google.com/github/Eshan133/CIFAR10/blob/main/CIFAR10.ipynb\" target=\"_parent\"><img src=\"https://colab.research.google.com/assets/colab-badge.svg\" alt=\"Open In Colab\"/></a>"
      ]
    },
    {
      "cell_type": "markdown",
      "source": [
        "# 1. Importing Packages"
      ],
      "metadata": {
        "id": "NhVY-rrUXqwy"
      }
    },
    {
      "cell_type": "code",
      "execution_count": null,
      "metadata": {
        "id": "FuhjY9oPR6Pd"
      },
      "outputs": [],
      "source": [
        "import torch\n",
        "from torch import nn\n",
        "\n",
        "import torchvision\n",
        "from torchvision import datasets\n",
        "from torchvision import transforms\n",
        "from torchvision.transforms import ToTensor\n",
        "\n",
        "import matplotlib.pyplot as plt"
      ]
    },
    {
      "cell_type": "code",
      "source": [
        "device = \"cuda\" if torch.cuda.is_available() else \"cpu\"\n",
        "device"
      ],
      "metadata": {
        "colab": {
          "base_uri": "https://localhost:8080/",
          "height": 36
        },
        "id": "XdRgQZvYX4EZ",
        "outputId": "dff344bd-5650-4c61-8e40-333136971295"
      },
      "execution_count": null,
      "outputs": [
        {
          "output_type": "execute_result",
          "data": {
            "text/plain": [
              "'cuda'"
            ],
            "application/vnd.google.colaboratory.intrinsic+json": {
              "type": "string"
            }
          },
          "metadata": {},
          "execution_count": 51
        }
      ]
    },
    {
      "cell_type": "markdown",
      "source": [
        "----\n",
        "# 2. Importing the dataset **(CIFAR10)**"
      ],
      "metadata": {
        "id": "pRUiHkyVYD5N"
      }
    },
    {
      "cell_type": "code",
      "source": [
        "train_data = datasets.CIFAR10(root=\"data\",\n",
        "                              train=True,\n",
        "                              download=True,\n",
        "                              transform=ToTensor(),\n",
        "                              target_transform=None)"
      ],
      "metadata": {
        "id": "CppnA9SfS0iH"
      },
      "execution_count": null,
      "outputs": []
    },
    {
      "cell_type": "code",
      "source": [
        "test_data = datasets.CIFAR10(root=\"data\",\n",
        "                              train=False,\n",
        "                              download=True,\n",
        "                              transform=ToTensor(),\n",
        "                              target_transform=None)"
      ],
      "metadata": {
        "id": "CERmJbt6TWbh"
      },
      "execution_count": null,
      "outputs": []
    },
    {
      "cell_type": "markdown",
      "source": [
        "---\n",
        "# 3. Dataset Visualization"
      ],
      "metadata": {
        "id": "EX28AOx0YNVZ"
      }
    },
    {
      "cell_type": "code",
      "source": [
        "train_data, test_data"
      ],
      "metadata": {
        "colab": {
          "base_uri": "https://localhost:8080/"
        },
        "id": "8QBjWvjnTcvm",
        "outputId": "08035597-4be9-4551-fae6-779a7680c5a7"
      },
      "execution_count": null,
      "outputs": [
        {
          "output_type": "execute_result",
          "data": {
            "text/plain": [
              "(Dataset CIFAR10\n",
              "     Number of datapoints: 50000\n",
              "     Root location: data\n",
              "     Split: Train\n",
              "     StandardTransform\n",
              " Transform: ToTensor(),\n",
              " Dataset CIFAR10\n",
              "     Number of datapoints: 10000\n",
              "     Root location: data\n",
              "     Split: Test\n",
              "     StandardTransform\n",
              " Transform: ToTensor())"
            ]
          },
          "metadata": {},
          "execution_count": 54
        }
      ]
    },
    {
      "cell_type": "code",
      "source": [
        "print(f\"Length of train dataset: {len(train_data)}\")\n",
        "print(f\"Length of test dataset: {len(test_data)}\")"
      ],
      "metadata": {
        "colab": {
          "base_uri": "https://localhost:8080/"
        },
        "id": "4h29Xb7OTejp",
        "outputId": "232b77ab-ab0f-4070-de6d-4a1fafd74aa2"
      },
      "execution_count": null,
      "outputs": [
        {
          "output_type": "stream",
          "name": "stdout",
          "text": [
            "Length of train dataset: 50000\n",
            "Length of test dataset: 10000\n"
          ]
        }
      ]
    },
    {
      "cell_type": "code",
      "source": [
        "img, label = train_data[0]\n",
        "class_names = train_data.classes\n",
        "\n",
        "print(f\"Classes present in the dataset: {class_names}\")"
      ],
      "metadata": {
        "colab": {
          "base_uri": "https://localhost:8080/"
        },
        "id": "LC1b4bqgTsEQ",
        "outputId": "bb803360-50ba-4cb0-cbc6-fd17a50023d4"
      },
      "execution_count": null,
      "outputs": [
        {
          "output_type": "stream",
          "name": "stdout",
          "text": [
            "Classes present in the dataset: ['airplane', 'automobile', 'bird', 'cat', 'deer', 'dog', 'frog', 'horse', 'ship', 'truck']\n"
          ]
        }
      ]
    },
    {
      "cell_type": "markdown",
      "source": [
        "## 3.1 Visualizing a image from the dataset"
      ],
      "metadata": {
        "id": "niJ-daJIZD6q"
      }
    },
    {
      "cell_type": "code",
      "source": [
        "plt.imshow(img.permute(1,2,0).numpy())\n",
        "plt.title(class_names[label])\n",
        "plt.show()"
      ],
      "metadata": {
        "colab": {
          "base_uri": "https://localhost:8080/",
          "height": 452
        },
        "id": "F_2P601KTwpH",
        "outputId": "eb04f7e1-0461-45cd-a42c-866c84a5e42b"
      },
      "execution_count": null,
      "outputs": [
        {
          "output_type": "display_data",
          "data": {
            "text/plain": [
              "<Figure size 640x480 with 1 Axes>"
            ],
            "image/png": "[encoded data removed]"
          },
          "metadata": {}
        }
      ]
    },
    {
      "cell_type": "markdown",
      "source": [
        "## 3.2 Visualizing and comparing **[color channel, height, weight]**"
      ],
      "metadata": {
        "id": "iSq4lcRGZNeq"
      }
    },
    {
      "cell_type": "code",
      "source": [
        "print(f\"Image Shape: {img.shape} --> [color channel, height, weight]\")"
      ],
      "metadata": {
        "colab": {
          "base_uri": "https://localhost:8080/"
        },
        "id": "rhaXj56jU6lg",
        "outputId": "fa6f18e5-80be-431a-a5da-ac1e7c13caa9"
      },
      "execution_count": null,
      "outputs": [
        {
          "output_type": "stream",
          "name": "stdout",
          "text": [
            "Image Shape: torch.Size([3, 32, 32]) --> [color channel, height, weight]\n"
          ]
        }
      ]
    },
    {
      "cell_type": "code",
      "source": [
        "color_channel = []\n",
        "height = []\n",
        "width = []\n",
        "\n",
        "for img, _ in train_data:\n",
        "  c, h, w = img.shape\n",
        "  color_channel.append(c)\n",
        "  height.append(h)\n",
        "  width.append(w)"
      ],
      "metadata": {
        "id": "8oBnx5_JVhIo"
      },
      "execution_count": null,
      "outputs": []
    },
    {
      "cell_type": "code",
      "source": [
        "import numpy as np"
      ],
      "metadata": {
        "id": "yiF9nlZRWJpZ"
      },
      "execution_count": null,
      "outputs": []
    },
    {
      "cell_type": "code",
      "source": [
        "color_channel = np.array(color_channel)\n",
        "height = np.array(height)\n",
        "width = np.array(width)"
      ],
      "metadata": {
        "id": "oeQ5dsm3W5T1"
      },
      "execution_count": null,
      "outputs": []
    },
    {
      "cell_type": "code",
      "source": [
        "fig, axs = plt.subplots(1, 3, figsize=(18,6))\n",
        "\n",
        "axs[0].hist(height, color=\"blue\", bins=30)\n",
        "axs[0].set_title(\"Height Comparison\")\n",
        "axs[0].set_ylabel(\"Frequency\")\n",
        "axs[0].set_xlabel(\"Height\")\n",
        "\n",
        "axs[1].hist(height, color=\"green\", bins=30)\n",
        "axs[1].set_title(\"Width Comparison\")\n",
        "axs[1].set_ylabel(\"Frequency\")\n",
        "axs[1].set_xlabel(\"Width\")\n",
        "\n",
        "axs[2].hist(color_channel, color=\"red\", bins=30)\n",
        "\n",
        "plt.show()"
      ],
      "metadata": {
        "colab": {
          "base_uri": "https://localhost:8080/",
          "height": 426
        },
        "id": "8fT1q3HIWBKH",
        "outputId": "e1bd6984-f083-4070-dc0a-78a5e8c46e4e"
      },
      "execution_count": null,
      "outputs": [
        {
          "output_type": "display_data",
          "data": {
            "text/plain": [
              "<Figure size 1800x600 with 3 Axes>"
            ],
            "image/png": "[encoded data removed]"
          },
          "metadata": {}
        }
      ]
    },
    {
      "cell_type": "markdown",
      "source": [
        "## 3.3 Visualizing the images present in the dataset"
      ],
      "metadata": {
        "id": "JCzDPxDAZvoI"
      }
    },
    {
      "cell_type": "code",
      "source": [
        "fig = plt.figure(figsize=(9,9))\n",
        "rows = 3\n",
        "cols = 3\n",
        "\n",
        "for i in range(1, rows*cols+1):\n",
        "  rand_idx = torch.randint(1, len(train_data), size=[1]).item()\n",
        "  img, label = train_data[rand_idx]\n",
        "  fig.add_subplot(rows, cols, i)\n",
        "  plt.imshow(img.permute(1,2,0).numpy())\n",
        "  plt.title(class_names[label])\n",
        "  plt.axis(False)"
      ],
      "metadata": {
        "colab": {
          "base_uri": "https://localhost:8080/",
          "height": 752
        },
        "id": "3yyXg8ItWo3Q",
        "outputId": "0d3e4876-173f-4a0d-faee-c77f995cc897"
      },
      "execution_count": null,
      "outputs": [
        {
          "output_type": "display_data",
          "data": {
            "text/plain": [
              "<Figure size 900x900 with 9 Axes>"
            ],
            "image/png": "[encoded data removed]"
          },
          "metadata": {}
        }
      ]
    },
    {
      "cell_type": "markdown",
      "source": [
        "---\n",
        "# 4. Preparing the DataLoader"
      ],
      "metadata": {
        "id": "XX1s-GgfbeqL"
      }
    },
    {
      "cell_type": "code",
      "source": [
        "from torch.utils.data import DataLoader\n",
        "\n",
        "BATCH_SIZE = 32\n",
        "\n",
        "train_dataloader = DataLoader(train_data, batch_size=BATCH_SIZE, shuffle=True)\n",
        "test_dataloader = DataLoader(test_data, batch_size=BATCH_SIZE, shuffle=False)"
      ],
      "metadata": {
        "id": "rBur5Db7bhza"
      },
      "execution_count": null,
      "outputs": []
    },
    {
      "cell_type": "markdown",
      "source": [
        "## 4.1 Visualizing the DataLoader"
      ],
      "metadata": {
        "id": "AVbGsPG-b_T0"
      }
    },
    {
      "cell_type": "code",
      "source": [
        "train_dataloader, test_dataloader"
      ],
      "metadata": {
        "colab": {
          "base_uri": "https://localhost:8080/"
        },
        "id": "o223_NONb-lc",
        "outputId": "a35a0d35-ddd5-410a-a9cf-be2c6e009e40"
      },
      "execution_count": null,
      "outputs": [
        {
          "output_type": "execute_result",
          "data": {
            "text/plain": [
              "(<torch.utils.data.dataloader.DataLoader at 0x797efbcb2090>,\n",
              " <torch.utils.data.dataloader.DataLoader at 0x797efbbf9150>)"
            ]
          },
          "metadata": {},
          "execution_count": 65
        }
      ]
    },
    {
      "cell_type": "code",
      "source": [
        "print(f\"Length of train data: {len(train_data)}\")\n",
        "print(f\"Length of test data: {len(test_data)}\")\n",
        "print('--------------------------------------------------------')\n",
        "print(f\"Length of train dataloader: {len(train_dataloader)} of size {BATCH_SIZE}...\")\n",
        "print(f\"Length of test dataloader: {len(test_dataloader)} of size {BATCH_SIZE}...\")"
      ],
      "metadata": {
        "colab": {
          "base_uri": "https://localhost:8080/"
        },
        "id": "C-5P9Td2cEbP",
        "outputId": "bc60c64b-9696-4058-e19f-b8f8317be7e8"
      },
      "execution_count": null,
      "outputs": [
        {
          "output_type": "stream",
          "name": "stdout",
          "text": [
            "Length of train data: 50000\n",
            "Length of test data: 10000\n",
            "--------------------------------------------------------\n",
            "Length of train dataloader: 1563 of size 32...\n",
            "Length of test dataloader: 313 of size 32...\n"
          ]
        }
      ]
    },
    {
      "cell_type": "markdown",
      "source": [
        "## 4.2 Extracting data from the dataloader **(CHECKING)**"
      ],
      "metadata": {
        "id": "-HWC9CKMdEq8"
      }
    },
    {
      "cell_type": "code",
      "source": [
        "# For train dataloader\n",
        "train_feature, train_labels = next(iter(train_dataloader))"
      ],
      "metadata": {
        "id": "_LQCOAPrc_T5"
      },
      "execution_count": null,
      "outputs": []
    },
    {
      "cell_type": "code",
      "source": [
        "print(\"FOR EACH ITERATION\")\n",
        "print(\"-------------------------------\")\n",
        "print(f\"Shape of train features [INPUT]: {train_feature.shape}\")\n",
        "print(f\"Shape of train labels [OUTPUT]: {train_labels.shape}\")"
      ],
      "metadata": {
        "colab": {
          "base_uri": "https://localhost:8080/"
        },
        "id": "CnTapUnieQxn",
        "outputId": "972de345-68ed-4ff7-ffa0-5929f632e3ff"
      },
      "execution_count": null,
      "outputs": [
        {
          "output_type": "stream",
          "name": "stdout",
          "text": [
            "FOR EACH ITERATION\n",
            "-------------------------------\n",
            "Shape of train features [INPUT]: torch.Size([32, 3, 32, 32])\n",
            "Shape of train labels [OUTPUT]: torch.Size([32])\n"
          ]
        }
      ]
    },
    {
      "cell_type": "code",
      "source": [
        "# First data from one iteration of train_dataloader\n",
        "plt.imshow(train_feature[0].permute(1,2,0))\n",
        "plt.title(class_names[train_labels[0]])\n",
        "plt.show()"
      ],
      "metadata": {
        "colab": {
          "base_uri": "https://localhost:8080/",
          "height": 452
        },
        "id": "G1zUncYjeRq4",
        "outputId": "f3cb993d-a327-4f42-c14c-c0874faafdaf"
      },
      "execution_count": null,
      "outputs": [
        {
          "output_type": "display_data",
          "data": {
            "text/plain": [
              "<Figure size 640x480 with 1 Axes>"
            ],
            "image/png": "[encoded data removed]"
          },
          "metadata": {}
        }
      ]
    },
    {
      "cell_type": "markdown",
      "source": [
        "---\n",
        "# 5. Training and Testing loop"
      ],
      "metadata": {
        "id": "_FPV70zydEdA"
      }
    },
    {
      "cell_type": "markdown",
      "source": [
        "### 5.1 training_loop()"
      ],
      "metadata": {
        "id": "8DplUweIgZtG"
      }
    },
    {
      "cell_type": "code",
      "source": [
        "def training_loop(model:torch.nn.Module,\n",
        "                  dataloader:torch.utils.data.DataLoader,\n",
        "                  loss_fn:torch.nn.Module,\n",
        "                  optimizer:torch.optim.Optimizer,\n",
        "                  accuracy_fn,\n",
        "                  device:torch.device=device):\n",
        "\n",
        "  model.train()\n",
        "  model.to(device)\n",
        "  train_loss, train_acc = 0, 0\n",
        "\n",
        "  for batch, (X, y) in enumerate(dataloader):\n",
        "    X, y = X.to(device), y.to(device)\n",
        "\n",
        "    # Froward Pass\n",
        "    y_pred = model(X)\n",
        "\n",
        "    # Calculate Loss\n",
        "    loss = loss_fn(y_pred, y)\n",
        "    train_loss += loss\n",
        "\n",
        "    # Calculate Accuracy\n",
        "    acc = accuracy_fn(y_pred=y_pred.argmax(dim=1), y_true=y)\n",
        "    train_acc += acc\n",
        "\n",
        "    # Optimizer Zero Grad\n",
        "    optimizer.zero_grad()\n",
        "\n",
        "    # Loss Backward\n",
        "    loss.backward()\n",
        "\n",
        "    # Optimizer Step\n",
        "    optimizer.step()\n",
        "\n",
        "    # Print the no. of Batch completed\n",
        "    if(batch % 200 == 0):\n",
        "      print(f\"{batch} BATCH HAS BEEN COMPLETED..\")\n",
        "\n",
        "  train_acc /= len(dataloader)\n",
        "  train_loss /= len(dataloader)\n",
        "\n",
        "  print(f\"Train Loss: {train_loss:.5f} | Train Accuracy: {train_acc:.2f}%\")\n",
        "\n",
        "  return train_acc, train_loss\n",
        "\n"
      ],
      "metadata": {
        "id": "2KHDYugOdH6Q"
      },
      "execution_count": null,
      "outputs": []
    },
    {
      "cell_type": "markdown",
      "source": [
        "### 5.2 testing_loop()"
      ],
      "metadata": {
        "id": "Au9DZTWUgiWS"
      }
    },
    {
      "cell_type": "code",
      "source": [
        "def testing_loop(model:torch.nn.Module,\n",
        "                 dataloader:torch.utils.data.DataLoader,\n",
        "                 loss_fn:torch.nn.Module,\n",
        "                 accuracy_fn,\n",
        "                 device:torch.device=device):\n",
        "\n",
        "  model.eval()\n",
        "  model.to(device)\n",
        "\n",
        "  with torch.inference_mode():\n",
        "    test_acc, test_loss = 0, 0\n",
        "\n",
        "    for X,y in dataloader:\n",
        "      X, y = X.to(device), y.to(device)\n",
        "\n",
        "      y_pred = model(X)\n",
        "\n",
        "      loss = loss_fn(y_pred, y)\n",
        "      test_loss += loss\n",
        "\n",
        "      acc = accuracy_fn(y_pred=y_pred.argmax(dim=1), y_true=y)\n",
        "      test_acc += acc\n",
        "\n",
        "    test_acc /= len(dataloader)\n",
        "    test_loss /= len(dataloader)\n",
        "\n",
        "    print(f\"Test Loss: {test_loss:.5f} || Test Accuracy: {test_acc:.2f}%\")\n",
        "\n",
        "    return test_acc, test_loss\n"
      ],
      "metadata": {
        "id": "dKDhIR4nf0aM"
      },
      "execution_count": null,
      "outputs": []
    },
    {
      "cell_type": "markdown",
      "source": [
        "---\n",
        "# 6. Evaluation & Prediction Function"
      ],
      "metadata": {
        "id": "fUAKNHAAvWcE"
      }
    },
    {
      "cell_type": "markdown",
      "source": [
        "### 6.1 evaluation()"
      ],
      "metadata": {
        "id": "vG9sH37SvjyN"
      }
    },
    {
      "cell_type": "code",
      "source": [
        "def evaluation(model:torch.nn.Module,\n",
        "               train_acc,\n",
        "                train_loss,\n",
        "                test_acc,\n",
        "                test_loss,\n",
        "                epochs:int,\n",
        "                learning_rate:float,\n",
        "                optimizer_name,\n",
        "                time_taken,\n",
        "                device:torch.device = device):\n",
        "\n",
        "  return {\n",
        "      'model_name': model.__class__.__name__,\n",
        "      'learning_rate':learning_rate,\n",
        "      'epochs':epochs,\n",
        "      'optimizer':optimizer_name,\n",
        "      'train_loss': train_loss.item(),\n",
        "      'train_accuracy':train_acc,\n",
        "      'test_loss': test_loss.item(),\n",
        "      'test_accuracy':test_acc,\n",
        "      'time_taken':time_taken,\n",
        "      'device':device\n",
        "  }"
      ],
      "metadata": {
        "id": "NWS8xLZgveO6"
      },
      "execution_count": null,
      "outputs": []
    },
    {
      "cell_type": "markdown",
      "source": [
        "### 6.2 plot_metrics()"
      ],
      "metadata": {
        "id": "fFkpMWo8CQcG"
      }
    },
    {
      "cell_type": "code",
      "source": [
        "def plot_metrics(train_losses, test_losses, train_accuracies, test_accuracies):\n",
        "    epochs = range(1, len(train_losses) + 1)\n",
        "\n",
        "    # Create subplots\n",
        "    fig, ax1 = plt.subplots(1, 2, figsize=(12, 5))\n",
        "\n",
        "    # Plot Loss\n",
        "    ax1[0].plot(epochs, train_losses, label=\"Train Loss\", marker='o')\n",
        "    ax1[0].plot(epochs, test_losses, label=\"Test Loss\", marker='o')\n",
        "    ax1[0].set_xlabel(\"Epochs\")\n",
        "    ax1[0].set_ylabel(\"Loss\")\n",
        "    ax1[0].set_title(\"Training and Testing Loss\")\n",
        "    ax1[0].legend()\n",
        "\n",
        "    # Plot Accuracy\n",
        "    ax1[1].plot(epochs, train_accuracies, label=\"Train Accuracy\", marker='o')\n",
        "    ax1[1].plot(epochs, test_accuracies, label=\"Test Accuracy\", marker='o')\n",
        "    ax1[1].set_xlabel(\"Epochs\")\n",
        "    ax1[1].set_ylabel(\"Accuracy\")\n",
        "    ax1[1].set_title(\"Training and Testing Accuracy\")\n",
        "    ax1[1].legend()\n",
        "\n",
        "    plt.show()"
      ],
      "metadata": {
        "id": "cqB2m235CXII"
      },
      "execution_count": null,
      "outputs": []
    },
    {
      "cell_type": "markdown",
      "source": [
        "### 6.2 make_predictions()"
      ],
      "metadata": {
        "id": "q-CratH2vtJs"
      }
    },
    {
      "cell_type": "code",
      "source": [
        "def make_predictions(model:torch.nn.Module,\n",
        "                     data:list,\n",
        "                     device:torch.device=device):\n",
        "\n",
        "  pred_probs = []\n",
        "  model.to(device)\n",
        "  model.eval()\n",
        "\n",
        "  with torch.inference_mode():\n",
        "    for sample in data:\n",
        "\n",
        "      sample = torch.unsqueeze(sample, dim=0).to(device)\n",
        "\n",
        "      pred_logits = model(sample)\n",
        "\n",
        "      pred_prob = torch.softmax(pred_logits.squeeze(), dim=0)\n",
        "\n",
        "      pred_probs.append(pred_prob.cpu())\n",
        "\n",
        "  return torch.stack(pred_probs)"
      ],
      "metadata": {
        "id": "34wz4W7ovhUz"
      },
      "execution_count": null,
      "outputs": []
    },
    {
      "cell_type": "markdown",
      "source": [
        "---\n",
        "# 7. Setting up Loss & Accuracy Function"
      ],
      "metadata": {
        "id": "e9ThnMOhoEHW"
      }
    },
    {
      "cell_type": "code",
      "source": [
        "import requests\n",
        "from pathlib import Path\n",
        "\n",
        "# Download helper function\n",
        "if Path(\"helper_function.py\").is_file():\n",
        "  print(\"helper_function.py already exists, skipping download>>\")\n",
        "else:\n",
        "  print(\"Downloading helper_function.py>>>>>>>>\")\n",
        "  request = requests.get(\"https://raw.githubusercontent.com/Eshan133/pytorch-deep-learning/refs/heads/main/helper_functions.py\")\n",
        "  with open(\"helper_function.py\", \"wb\") as f:\n",
        "    f.write(request.content)\n",
        "    print(\"Downloading complete\")"
      ],
      "metadata": {
        "colab": {
          "base_uri": "https://localhost:8080/"
        },
        "id": "Owp2ZuiLoJJq",
        "outputId": "b8bb17c3-7d9e-477e-b0b9-b43bbebcd413"
      },
      "execution_count": null,
      "outputs": [
        {
          "output_type": "stream",
          "name": "stdout",
          "text": [
            "helper_function.py already exists, skipping download>>\n"
          ]
        }
      ]
    },
    {
      "cell_type": "code",
      "source": [
        "# import the accuracy metircs from helper_function.py\n",
        "from helper_function import accuracy_fn\n",
        "\n",
        "#setup loss and optimizer\n",
        "loss_fn = nn.CrossEntropyLoss()"
      ],
      "metadata": {
        "id": "At23YFbcoNzH"
      },
      "execution_count": null,
      "outputs": []
    },
    {
      "cell_type": "markdown",
      "source": [
        "---\n",
        "# 8. Timer Function"
      ],
      "metadata": {
        "id": "JVAlbZcewJFJ"
      }
    },
    {
      "cell_type": "code",
      "source": [
        "from timeit import default_timer as timer\n",
        "\n",
        "def print_time(start:float, end:float, device:torch.device=None):\n",
        "  total_time = end - start\n",
        "  print(f\"Total time taken on {device}: {total_time:.3f} seconds\")\n",
        "  return total_time"
      ],
      "metadata": {
        "id": "bBVHMI9IwNAi"
      },
      "execution_count": null,
      "outputs": []
    },
    {
      "cell_type": "markdown",
      "source": [
        "---\n",
        "# 9. Base Model"
      ],
      "metadata": {
        "id": "WQBI6CvYiVjT"
      }
    },
    {
      "cell_type": "code",
      "source": [
        "# Tiny VGG net\n",
        "class ModelV1(nn.Module):\n",
        "  def __init__(self,\n",
        "               input_units:int,\n",
        "               hidden_units:int,\n",
        "               output_units:int):\n",
        "    super().__init__()\n",
        "\n",
        "    ## Feature Extraction Layers\n",
        "    self.conv_block_1 = nn.Sequential(\n",
        "        nn.Conv2d(in_channels=input_units,\n",
        "                  out_channels=hidden_units,\n",
        "                  kernel_size=3,\n",
        "                  padding=1,\n",
        "                  stride=1),\n",
        "        nn.ReLU(),\n",
        "        nn.Conv2d(in_channels=hidden_units,\n",
        "                  out_channels=hidden_units,\n",
        "                  kernel_size=3,\n",
        "                  padding=1,\n",
        "                  stride=1),\n",
        "        nn.ReLU(),\n",
        "        nn.MaxPool2d(kernel_size=2)\n",
        "    )\n",
        "\n",
        "    self.conv_block_2 = nn.Sequential(\n",
        "        nn.Conv2d(in_channels=hidden_units,\n",
        "                  out_channels=hidden_units,\n",
        "                  kernel_size=3,\n",
        "                  padding=1,\n",
        "                  stride=1),\n",
        "        nn.ReLU(),\n",
        "        nn.Conv2d(in_channels=hidden_units,\n",
        "                  out_channels=hidden_units,\n",
        "                  kernel_size=3,\n",
        "                  padding=1,\n",
        "                  stride=1),\n",
        "        nn.ReLU(),\n",
        "        nn.MaxPool2d(kernel_size=2)\n",
        "    )\n",
        "\n",
        "    ## Classifier/Output layer\n",
        "    self.classifier = nn.Sequential(\n",
        "        nn.Flatten(),\n",
        "        nn.Linear(in_features=hidden_units*8*8,\n",
        "                  out_features=output_units),\n",
        "    )\n",
        "\n",
        "  def forward(self, x):\n",
        "    x = self.conv_block_1(x)\n",
        "    # print(x.shape)\n",
        "\n",
        "    x = self.conv_block_2(x)\n",
        "    # print(x.shape)\n",
        "\n",
        "    x = self.classifier(x)\n",
        "    # print(x.shape)\n",
        "\n",
        "    return x"
      ],
      "metadata": {
        "id": "jCvJVp-7iS6V"
      },
      "execution_count": null,
      "outputs": []
    },
    {
      "cell_type": "markdown",
      "source": [
        "## 9.1 Initializing the base model"
      ],
      "metadata": {
        "id": "d8yltBOMlI_F"
      }
    },
    {
      "cell_type": "code",
      "source": [
        "modelV1 = ModelV1(input_units=3,\n",
        "                  hidden_units=10,\n",
        "                  output_units=len(class_names)).to(device)"
      ],
      "metadata": {
        "id": "ODiBqWqJlMU9"
      },
      "execution_count": null,
      "outputs": []
    },
    {
      "cell_type": "markdown",
      "source": [
        "## 9.2 Setting up Optimizer of base model"
      ],
      "metadata": {
        "id": "KQzFlcGAnz7A"
      }
    },
    {
      "cell_type": "code",
      "source": [
        "learning_rate = 0.1\n",
        "optimizer = torch.optim.SGD(params=modelV1.parameters(), lr=learning_rate)"
      ],
      "metadata": {
        "id": "KM-060BKn38l"
      },
      "execution_count": null,
      "outputs": []
    },
    {
      "cell_type": "markdown",
      "source": [
        "----\n",
        "## 9.3 Finding the shape of Linear Layer\n"
      ],
      "metadata": {
        "id": "XBwoDkTSmsuG"
      }
    },
    {
      "cell_type": "markdown",
      "source": [
        "Here, we need to keep one thing in mind:\n",
        "- Linear Layer, takes input shape that doesn't match the hidden unit. `i.e` the output of `conv_block_2`.\n",
        "- Hence, we need to create a dummy data of same shape as the input, and print the shape after each layer to identify the correct shape.\n",
        "- Let's do that now....\n",
        "  - Shape of output of `conv_block_2`: torch.Size([1, 10, 8, 8])\n",
        "  - So, let's multiply the `in_features` by $8*8$"
      ],
      "metadata": {
        "id": "_1qt0lTwkans"
      }
    },
    {
      "cell_type": "code",
      "source": [
        "dummy_data = torch.rand(size = (3, 32, 32))\n",
        "\n",
        "modelV1(dummy_data.unsqueeze(0).to(device))"
      ],
      "metadata": {
        "colab": {
          "base_uri": "https://localhost:8080/"
        },
        "id": "3QWksiBck4M1",
        "outputId": "d604d101-bd58-4348-fdb7-cb830196b4d6"
      },
      "execution_count": null,
      "outputs": [
        {
          "output_type": "execute_result",
          "data": {
            "text/plain": [
              "tensor([[ 0.0083,  0.0020, -0.0486,  0.0066,  0.0091, -0.0375, -0.0117, -0.0250,\n",
              "         -0.0079, -0.0330]], device='cuda:0', grad_fn=<AddmmBackward0>)"
            ]
          },
          "metadata": {},
          "execution_count": 81
        }
      ]
    },
    {
      "cell_type": "markdown",
      "source": [
        "----\n",
        "## 9.4 Training the Base Model"
      ],
      "metadata": {
        "id": "6QIlBVUXnDAe"
      }
    },
    {
      "cell_type": "code",
      "source": [
        "from tqdm.auto import tqdm"
      ],
      "metadata": {
        "id": "tU1ob_4AnLvr"
      },
      "execution_count": null,
      "outputs": []
    },
    {
      "cell_type": "code",
      "source": [
        "epochs = 5\n",
        "\n",
        "start_time_1 = timer()\n",
        "train_acc, train_loss, test_acc, test_loss = 0, 0, 0, 0\n",
        "train_losses, test_losses = [], []\n",
        "train_accuracies, test_accuracies = [], []\n",
        "\n",
        "for epoch in tqdm(range(epochs)):\n",
        "  print(f\"--- Epoch: {epoch} ---\")\n",
        "  train_acc, train_loss = training_loop(model=modelV1,\n",
        "                                        dataloader=train_dataloader,\n",
        "                                        loss_fn=loss_fn,\n",
        "                                        accuracy_fn=accuracy_fn,\n",
        "                                        optimizer=optimizer,\n",
        "                                        device=device)\n",
        "\n",
        "  test_acc, test_loss = testing_loop(model=modelV1,\n",
        "                                      dataloader=test_dataloader,\n",
        "                                      loss_fn=loss_fn,\n",
        "                                      accuracy_fn=accuracy_fn,\n",
        "                                      device=device)\n",
        "  print(\"-------------------------------\")\n",
        "\n",
        "  # Store metrics\n",
        "  train_losses.append(train_loss.item())\n",
        "  test_losses.append(test_loss.item())\n",
        "  train_accuracies.append(train_acc)\n",
        "  test_accuracies.append(test_acc)\n",
        "\n",
        "end_timer_1 = timer()\n",
        "\n",
        "# Plot the metrics\n",
        "plot_metrics(train_losses, test_losses, train_accuracies, test_accuracies)\n",
        "\n",
        "total_time_model_V1 = print_time(start=start_time_1, end=end_timer_1, device=device)"
      ],
      "metadata": {
        "colab": {
          "base_uri": "https://localhost:8080/",
          "height": 1000,
          "referenced_widgets": [
            "bb636b0b3cbf49bf80a009ccce5ceda6",
            "ee311fd63517485bb270ea804c3c41e4",
            "cd3f85d740be4e5a82c3cc765b7f88c2",
            "caea01c04d97432dbf5217de59f032aa",
            "6566f5b90f6749928f33adfe7924e7ea",
            "15d956cdf9ee466c9e7b99ba421ff5d9",
            "15523e0075814aa08ea7fea8a8f7ff0e",
            "b6b6b51963be42a292aa0ca12559cc18",
            "bae8f3a6dea949e287d362f174188161",
            "d7125f3fc9e845a5991b39d0bf3ee0d2",
            "ef47b11a90aa423494c4fc7c5d4e175b"
          ]
        },
        "id": "Itmaz73ylxdv",
        "outputId": "dc24093a-9657-4bde-beff-c917d875f48f"
      },
      "execution_count": null,
      "outputs": [
        {
          "output_type": "display_data",
          "data": {
            "text/plain": [
              "  0%|          | 0/5 [00:00<?, ?it/s]"
            ],
            "application/vnd.jupyter.widget-view+json": {
              "version_major": 2,
              "version_minor": 0,
              "model_id": "bb636b0b3cbf49bf80a009ccce5ceda6"
            }
          },
          "metadata": {}
        },
        {
          "output_type": "stream",
          "name": "stdout",
          "text": [
            "--- Epoch: 0 ---\n",
            "0 BATCH HAS BEEN COMPLETED..\n",
            "200 BATCH HAS BEEN COMPLETED..\n",
            "400 BATCH HAS BEEN COMPLETED..\n",
            "600 BATCH HAS BEEN COMPLETED..\n",
            "800 BATCH HAS BEEN COMPLETED..\n",
            "1000 BATCH HAS BEEN COMPLETED..\n",
            "1200 BATCH HAS BEEN COMPLETED..\n",
            "1400 BATCH HAS BEEN COMPLETED..\n",
            "Train Loss: 1.91198 | Train Accuracy: 30.25%\n",
            "Test Loss: 1.53823 || Test Accuracy: 44.25%\n",
            "-------------------------------\n",
            "--- Epoch: 1 ---\n",
            "0 BATCH HAS BEEN COMPLETED..\n",
            "200 BATCH HAS BEEN COMPLETED..\n",
            "400 BATCH HAS BEEN COMPLETED..\n",
            "600 BATCH HAS BEEN COMPLETED..\n",
            "800 BATCH HAS BEEN COMPLETED..\n",
            "1000 BATCH HAS BEEN COMPLETED..\n",
            "1200 BATCH HAS BEEN COMPLETED..\n",
            "1400 BATCH HAS BEEN COMPLETED..\n",
            "Train Loss: 1.43640 | Train Accuracy: 48.93%\n",
            "Test Loss: 1.39149 || Test Accuracy: 51.87%\n",
            "-------------------------------\n",
            "--- Epoch: 2 ---\n",
            "0 BATCH HAS BEEN COMPLETED..\n",
            "200 BATCH HAS BEEN COMPLETED..\n",
            "400 BATCH HAS BEEN COMPLETED..\n",
            "600 BATCH HAS BEEN COMPLETED..\n",
            "800 BATCH HAS BEEN COMPLETED..\n",
            "1000 BATCH HAS BEEN COMPLETED..\n",
            "1200 BATCH HAS BEEN COMPLETED..\n",
            "1400 BATCH HAS BEEN COMPLETED..\n",
            "Train Loss: 1.31538 | Train Accuracy: 53.53%\n",
            "Test Loss: 1.31751 || Test Accuracy: 51.71%\n",
            "-------------------------------\n",
            "--- Epoch: 3 ---\n",
            "0 BATCH HAS BEEN COMPLETED..\n",
            "200 BATCH HAS BEEN COMPLETED..\n",
            "400 BATCH HAS BEEN COMPLETED..\n",
            "600 BATCH HAS BEEN COMPLETED..\n",
            "800 BATCH HAS BEEN COMPLETED..\n",
            "1000 BATCH HAS BEEN COMPLETED..\n",
            "1200 BATCH HAS BEEN COMPLETED..\n",
            "1400 BATCH HAS BEEN COMPLETED..\n",
            "Train Loss: 1.25889 | Train Accuracy: 55.77%\n",
            "Test Loss: 1.24904 || Test Accuracy: 56.04%\n",
            "-------------------------------\n",
            "--- Epoch: 4 ---\n",
            "0 BATCH HAS BEEN COMPLETED..\n",
            "200 BATCH HAS BEEN COMPLETED..\n",
            "400 BATCH HAS BEEN COMPLETED..\n",
            "600 BATCH HAS BEEN COMPLETED..\n",
            "800 BATCH HAS BEEN COMPLETED..\n",
            "1000 BATCH HAS BEEN COMPLETED..\n",
            "1200 BATCH HAS BEEN COMPLETED..\n",
            "1400 BATCH HAS BEEN COMPLETED..\n",
            "Train Loss: 1.21343 | Train Accuracy: 57.29%\n",
            "Test Loss: 1.26578 || Test Accuracy: 55.60%\n",
            "-------------------------------\n"
          ]
        },
        {
          "output_type": "display_data",
          "data": {
            "text/plain": [
              "<Figure size 1200x500 with 2 Axes>"
            ],
            "image/png": "[encoded data removed]"
          },
          "metadata": {}
        },
        {
          "output_type": "stream",
          "name": "stdout",
          "text": [
            "Total time taken on cuda: 58.736 seconds\n"
          ]
        }
      ]
    },
    {
      "cell_type": "markdown",
      "source": [
        "## 9.5 Evaluating the Base Model"
      ],
      "metadata": {
        "id": "yBN7ePq1wrXE"
      }
    },
    {
      "cell_type": "code",
      "source": [
        "eval_model_V1 = evaluation(model=modelV1,\n",
        "                           train_acc=train_acc,\n",
        "                           train_loss=train_loss,\n",
        "                           test_acc=test_acc,\n",
        "                           test_loss=test_loss,\n",
        "                            epochs=epochs,\n",
        "                            learning_rate=learning_rate,\n",
        "                            optimizer_name='SGD',\n",
        "                            time_taken=total_time_model_V1,\n",
        "                            device=device)"
      ],
      "metadata": {
        "id": "G8vislNCpIPv"
      },
      "execution_count": null,
      "outputs": []
    },
    {
      "cell_type": "code",
      "source": [
        "eval_model_V1"
      ],
      "metadata": {
        "colab": {
          "base_uri": "https://localhost:8080/"
        },
        "id": "4alLQpW0wyjM",
        "outputId": "76078ff3-6e51-4cbb-fb87-d0f9ece38b95"
      },
      "execution_count": null,
      "outputs": [
        {
          "output_type": "execute_result",
          "data": {
            "text/plain": [
              "{'model_name': 'ModelV1',\n",
              " 'learning_rate': 0.1,\n",
              " 'epochs': 5,\n",
              " 'optimizer': 'SGD',\n",
              " 'train_loss': 1.213430643081665,\n",
              " 'train_accuracy': 57.28966730646193,\n",
              " 'test_loss': 1.2657772302627563,\n",
              " 'test_accuracy': 55.60103833865815,\n",
              " 'time_taken': 58.73629122499983,\n",
              " 'device': 'cuda'}"
            ]
          },
          "metadata": {},
          "execution_count": 86
        }
      ]
    },
    {
      "cell_type": "markdown",
      "source": [
        "---\n",
        "# 10. Hyperparameter Tuning"
      ],
      "metadata": {
        "id": "yvJBRM-I0_M_"
      }
    },
    {
      "cell_type": "markdown",
      "source": [
        "## 10.1 Increasing epochs"
      ],
      "metadata": {
        "id": "kzdJ1hZ5_mjl"
      }
    },
    {
      "cell_type": "code",
      "source": [
        "modelV1_1 = ModelV1(input_units=3,\n",
        "                  hidden_units=10,\n",
        "                  output_units=len(class_names)).to(device)"
      ],
      "metadata": {
        "id": "g5FusvJ51Y6L"
      },
      "execution_count": null,
      "outputs": []
    },
    {
      "cell_type": "code",
      "source": [
        "learning_rate = 0.1\n",
        "optimizer = torch.optim.SGD(params=modelV1_1.parameters(), lr=learning_rate)"
      ],
      "metadata": {
        "id": "jgH5snqI1fKA"
      },
      "execution_count": null,
      "outputs": []
    },
    {
      "cell_type": "code",
      "source": [
        "epochs = 10\n",
        "\n",
        "start_time_1 = timer()\n",
        "\n",
        "for epoch in tqdm(range(epochs)):\n",
        "  print(f\"--- Epoch: {epoch} ---\")\n",
        "  train_acc, train_loss = training_loop(model=modelV1_1,\n",
        "                dataloader=train_dataloader,\n",
        "                loss_fn=loss_fn,\n",
        "                accuracy_fn=accuracy_fn,\n",
        "                optimizer=optimizer,\n",
        "                device=device)\n",
        "\n",
        "  test_acc, test_loss = testing_loop(model=modelV1_1,\n",
        "              dataloader=test_dataloader,\n",
        "              loss_fn=loss_fn,\n",
        "              accuracy_fn=accuracy_fn,\n",
        "              device=device)\n",
        "  print(\"-------------------------------\")\n",
        "\n",
        "  # Store metrics\n",
        "  train_losses.append(train_loss.item())\n",
        "  test_losses.append(test_loss.item())\n",
        "  train_accuracies.append(train_acc)\n",
        "  test_accuracies.append(test_acc)\n",
        "\n",
        "end_timer_1 = timer()\n",
        "\n",
        "# Plot the metrics\n",
        "plot_metrics(train_losses, test_losses, train_accuracies, test_accuracies)\n",
        "\n",
        "total_time_model_V1 = print_time(start=start_time_1, end=end_timer_1, device=device)"
      ],
      "metadata": {
        "colab": {
          "base_uri": "https://localhost:8080/",
          "height": 1000,
          "referenced_widgets": [
            "6238ec552fc44ddb909a0023af41952f",
            "d871239698bc44a593b7cca1d0963fe5",
            "904fd6d4573e476596da0b99422c7914",
            "1d427b8ba6c8483b88bdb036e97079af",
            "bf6d3dc385e9450cafdc5d0071b6b53b",
            "57a95e6c15ee42ddb1c4adda6bc85bc8",
            "571a4959e6b24bdcac0c95cf416a5a77",
            "d2f8b0e36317435abd30353d97f9b77b",
            "2469cf66891c4c82810d2949ed172d44",
            "88737a19f6dd4bb2af43241e0e1cc1cf",
            "26d2598332a24dfe8ffb416b129b5a51"
          ]
        },
        "id": "9NLKEC4mx_Ok",
        "outputId": "a75b7b28-9d50-4708-cb67-8a0213ed9277"
      },
      "execution_count": null,
      "outputs": [
        {
          "output_type": "display_data",
          "data": {
            "text/plain": [
              "  0%|          | 0/10 [00:00<?, ?it/s]"
            ],
            "application/vnd.jupyter.widget-view+json": {
              "version_major": 2,
              "version_minor": 0,
              "model_id": "6238ec552fc44ddb909a0023af41952f"
            }
          },
          "metadata": {}
        },
        {
          "output_type": "stream",
          "name": "stdout",
          "text": [
            "--- Epoch: 0 ---\n",
            "0 BATCH HAS BEEN COMPLETED..\n",
            "200 BATCH HAS BEEN COMPLETED..\n",
            "400 BATCH HAS BEEN COMPLETED..\n",
            "600 BATCH HAS BEEN COMPLETED..\n",
            "800 BATCH HAS BEEN COMPLETED..\n",
            "1000 BATCH HAS BEEN COMPLETED..\n",
            "1200 BATCH HAS BEEN COMPLETED..\n",
            "1400 BATCH HAS BEEN COMPLETED..\n",
            "Train Loss: 2.28821 | Train Accuracy: 11.95%\n",
            "Test Loss: 2.20201 || Test Accuracy: 20.87%\n",
            "-------------------------------\n",
            "--- Epoch: 1 ---\n",
            "0 BATCH HAS BEEN COMPLETED..\n",
            "200 BATCH HAS BEEN COMPLETED..\n",
            "400 BATCH HAS BEEN COMPLETED..\n",
            "600 BATCH HAS BEEN COMPLETED..\n",
            "800 BATCH HAS BEEN COMPLETED..\n",
            "1000 BATCH HAS BEEN COMPLETED..\n",
            "1200 BATCH HAS BEEN COMPLETED..\n",
            "1400 BATCH HAS BEEN COMPLETED..\n",
            "Train Loss: 1.80082 | Train Accuracy: 35.98%\n",
            "Test Loss: 1.51407 || Test Accuracy: 45.48%\n",
            "-------------------------------\n",
            "--- Epoch: 2 ---\n",
            "0 BATCH HAS BEEN COMPLETED..\n",
            "200 BATCH HAS BEEN COMPLETED..\n",
            "400 BATCH HAS BEEN COMPLETED..\n",
            "600 BATCH HAS BEEN COMPLETED..\n",
            "800 BATCH HAS BEEN COMPLETED..\n",
            "1000 BATCH HAS BEEN COMPLETED..\n",
            "1200 BATCH HAS BEEN COMPLETED..\n",
            "1400 BATCH HAS BEEN COMPLETED..\n",
            "Train Loss: 1.45977 | Train Accuracy: 48.42%\n",
            "Test Loss: 1.58273 || Test Accuracy: 43.73%\n",
            "-------------------------------\n",
            "--- Epoch: 3 ---\n",
            "0 BATCH HAS BEEN COMPLETED..\n",
            "200 BATCH HAS BEEN COMPLETED..\n",
            "400 BATCH HAS BEEN COMPLETED..\n",
            "600 BATCH HAS BEEN COMPLETED..\n",
            "800 BATCH HAS BEEN COMPLETED..\n",
            "1000 BATCH HAS BEEN COMPLETED..\n",
            "1200 BATCH HAS BEEN COMPLETED..\n",
            "1400 BATCH HAS BEEN COMPLETED..\n",
            "Train Loss: 1.32634 | Train Accuracy: 53.49%\n",
            "Test Loss: 1.42813 || Test Accuracy: 48.94%\n",
            "-------------------------------\n",
            "--- Epoch: 4 ---\n",
            "0 BATCH HAS BEEN COMPLETED..\n",
            "200 BATCH HAS BEEN COMPLETED..\n",
            "400 BATCH HAS BEEN COMPLETED..\n",
            "600 BATCH HAS BEEN COMPLETED..\n",
            "800 BATCH HAS BEEN COMPLETED..\n",
            "1000 BATCH HAS BEEN COMPLETED..\n",
            "1200 BATCH HAS BEEN COMPLETED..\n",
            "1400 BATCH HAS BEEN COMPLETED..\n",
            "Train Loss: 1.25478 | Train Accuracy: 55.55%\n",
            "Test Loss: 1.50896 || Test Accuracy: 47.20%\n",
            "-------------------------------\n",
            "--- Epoch: 5 ---\n",
            "0 BATCH HAS BEEN COMPLETED..\n",
            "200 BATCH HAS BEEN COMPLETED..\n",
            "400 BATCH HAS BEEN COMPLETED..\n",
            "600 BATCH HAS BEEN COMPLETED..\n",
            "800 BATCH HAS BEEN COMPLETED..\n",
            "1000 BATCH HAS BEEN COMPLETED..\n",
            "1200 BATCH HAS BEEN COMPLETED..\n",
            "1400 BATCH HAS BEEN COMPLETED..\n",
            "Train Loss: 1.21994 | Train Accuracy: 57.11%\n",
            "Test Loss: 1.22085 || Test Accuracy: 56.92%\n",
            "-------------------------------\n",
            "--- Epoch: 6 ---\n",
            "0 BATCH HAS BEEN COMPLETED..\n",
            "200 BATCH HAS BEEN COMPLETED..\n",
            "400 BATCH HAS BEEN COMPLETED..\n",
            "600 BATCH HAS BEEN COMPLETED..\n",
            "800 BATCH HAS BEEN COMPLETED..\n",
            "1000 BATCH HAS BEEN COMPLETED..\n",
            "1200 BATCH HAS BEEN COMPLETED..\n",
            "1400 BATCH HAS BEEN COMPLETED..\n",
            "Train Loss: 1.18682 | Train Accuracy: 58.40%\n",
            "Test Loss: 1.23780 || Test Accuracy: 56.89%\n",
            "-------------------------------\n",
            "--- Epoch: 7 ---\n",
            "0 BATCH HAS BEEN COMPLETED..\n",
            "200 BATCH HAS BEEN COMPLETED..\n",
            "400 BATCH HAS BEEN COMPLETED..\n",
            "600 BATCH HAS BEEN COMPLETED..\n",
            "800 BATCH HAS BEEN COMPLETED..\n",
            "1000 BATCH HAS BEEN COMPLETED..\n",
            "1200 BATCH HAS BEEN COMPLETED..\n",
            "1400 BATCH HAS BEEN COMPLETED..\n",
            "Train Loss: 1.16693 | Train Accuracy: 58.78%\n",
            "Test Loss: 1.20406 || Test Accuracy: 57.60%\n",
            "-------------------------------\n",
            "--- Epoch: 8 ---\n",
            "0 BATCH HAS BEEN COMPLETED..\n",
            "200 BATCH HAS BEEN COMPLETED..\n",
            "400 BATCH HAS BEEN COMPLETED..\n",
            "600 BATCH HAS BEEN COMPLETED..\n",
            "800 BATCH HAS BEEN COMPLETED..\n",
            "1000 BATCH HAS BEEN COMPLETED..\n",
            "1200 BATCH HAS BEEN COMPLETED..\n",
            "1400 BATCH HAS BEEN COMPLETED..\n",
            "Train Loss: 1.15256 | Train Accuracy: 59.26%\n",
            "Test Loss: 1.24235 || Test Accuracy: 56.01%\n",
            "-------------------------------\n",
            "--- Epoch: 9 ---\n",
            "0 BATCH HAS BEEN COMPLETED..\n",
            "200 BATCH HAS BEEN COMPLETED..\n",
            "400 BATCH HAS BEEN COMPLETED..\n",
            "600 BATCH HAS BEEN COMPLETED..\n",
            "800 BATCH HAS BEEN COMPLETED..\n",
            "1000 BATCH HAS BEEN COMPLETED..\n",
            "1200 BATCH HAS BEEN COMPLETED..\n",
            "1400 BATCH HAS BEEN COMPLETED..\n",
            "Train Loss: 1.14029 | Train Accuracy: 60.03%\n",
            "Test Loss: 1.21114 || Test Accuracy: 57.95%\n",
            "-------------------------------\n"
          ]
        },
        {
          "output_type": "display_data",
          "data": {
            "text/plain": [
              "<Figure size 1200x500 with 2 Axes>"
            ],
            "image/png": "[encoded data removed]"
          },
          "metadata": {}
        },
        {
          "output_type": "stream",
          "name": "stdout",
          "text": [
            "Total time taken on cuda: 117.528 seconds\n"
          ]
        }
      ]
    },
    {
      "cell_type": "code",
      "source": [
        "eval_model_V1_1 = evaluation(model=modelV1_1,\n",
        "                             train_acc=train_acc,\n",
        "                              train_loss=train_loss,\n",
        "                              test_acc=test_acc,\n",
        "                              test_loss=test_loss,\n",
        "                              epochs=epochs,\n",
        "                              learning_rate=learning_rate,\n",
        "                              optimizer_name='SGD',\n",
        "                              time_taken=total_time_model_V1,\n",
        "                              device=device)"
      ],
      "metadata": {
        "id": "0JnTSMCS1puP"
      },
      "execution_count": null,
      "outputs": []
    },
    {
      "cell_type": "code",
      "source": [
        "eval_model_V1_1"
      ],
      "metadata": {
        "colab": {
          "base_uri": "https://localhost:8080/"
        },
        "id": "Xib2OQpV3oHo",
        "outputId": "ed2da832-41a7-440c-efb5-055fc0545d86"
      },
      "execution_count": null,
      "outputs": [
        {
          "output_type": "execute_result",
          "data": {
            "text/plain": [
              "{'model_name': 'ModelV1',\n",
              " 'learning_rate': 0.1,\n",
              " 'epochs': 10,\n",
              " 'optimizer': 'SGD',\n",
              " 'train_loss': 1.1402863264083862,\n",
              " 'train_accuracy': 60.03079014715291,\n",
              " 'test_loss': 1.2111352682113647,\n",
              " 'test_accuracy': 57.947284345047926,\n",
              " 'time_taken': 117.52786725700003,\n",
              " 'device': 'cuda'}"
            ]
          },
          "metadata": {},
          "execution_count": 91
        }
      ]
    },
    {
      "cell_type": "markdown",
      "source": [
        "train_loss, test_loss, comments"
      ],
      "metadata": {
        "id": "IM7ToY7634Aw"
      }
    },
    {
      "cell_type": "code",
      "source": [
        "import pandas as pd"
      ],
      "metadata": {
        "id": "ylGvH0mW9AqC"
      },
      "execution_count": null,
      "outputs": []
    },
    {
      "cell_type": "code",
      "source": [
        "comparision_df = pd.DataFrame([eval_model_V1,eval_model_V1_1])\n",
        "comparision_df['comment'] = ['Let\\'s try increasing the epoch',\n",
        "                             'Increasing epoch is still giving better results, Also the jump is crazy']"
      ],
      "metadata": {
        "id": "5l22lMdD38I_"
      },
      "execution_count": null,
      "outputs": []
    },
    {
      "cell_type": "code",
      "source": [
        "comparision_df"
      ],
      "metadata": {
        "colab": {
          "base_uri": "https://localhost:8080/",
          "height": 164
        },
        "id": "BKAsUcsM9CCW",
        "outputId": "c55ae118-e33e-4f74-e722-f5e2b91fa9ab"
      },
      "execution_count": null,
      "outputs": [
        {
          "output_type": "execute_result",
          "data": {
            "text/plain": [
              "  model_name  learning_rate  epochs optimizer  train_loss  train_accuracy  \\\n",
              "0    ModelV1            0.1       5       SGD    1.213431       57.289667   \n",
              "1    ModelV1            0.1      10       SGD    1.140286       60.030790   \n",
              "\n",
              "   test_loss  test_accuracy  time_taken device  \\\n",
              "0   1.265777      55.601038   58.736291   cuda   \n",
              "1   1.211135      57.947284  117.527867   cuda   \n",
              "\n",
              "                                             comment  \n",
              "0                     Let's try increasing the epoch  \n",
              "1  Increasing epoch is still giving better result...  "
            ],
            "text/html": [
              "\n",
              "  <div id=\"df-1f57cc7b-e4f5-4985-b923-d9d3163653fc\" class=\"colab-df-container\">\n",
              "    <div>\n",
              "<style scoped>\n",
              "    .dataframe tbody tr th:only-of-type {\n",
              "        vertical-align: middle;\n",
              "    }\n",
              "\n",
              "    .dataframe tbody tr th {\n",
              "        vertical-align: top;\n",
              "    }\n",
              "\n",
              "    .dataframe thead th {\n",
              "        text-align: right;\n",
              "    }\n",
              "</style>\n",
              "<table border=\"1\" class=\"dataframe\">\n",
              "  <thead>\n",
              "    <tr style=\"text-align: right;\">\n",
              "      <th></th>\n",
              "      <th>model_name</th>\n",
              "      <th>learning_rate</th>\n",
              "      <th>epochs</th>\n",
              "      <th>optimizer</th>\n",
              "      <th>train_loss</th>\n",
              "      <th>train_accuracy</th>\n",
              "      <th>test_loss</th>\n",
              "      <th>test_accuracy</th>\n",
              "      <th>time_taken</th>\n",
              "      <th>device</th>\n",
              "      <th>comment</th>\n",
              "    </tr>\n",
              "  </thead>\n",
              "  <tbody>\n",
              "    <tr>\n",
              "      <th>0</th>\n",
              "      <td>ModelV1</td>\n",
              "      <td>0.1</td>\n",
              "      <td>5</td>\n",
              "      <td>SGD</td>\n",
              "      <td>1.213431</td>\n",
              "      <td>57.289667</td>\n",
              "      <td>1.265777</td>\n",
              "      <td>55.601038</td>\n",
              "      <td>58.736291</td>\n",
              "      <td>cuda</td>\n",
              "      <td>Let's try increasing the epoch</td>\n",
              "    </tr>\n",
              "    <tr>\n",
              "      <th>1</th>\n",
              "      <td>ModelV1</td>\n",
              "      <td>0.1</td>\n",
              "      <td>10</td>\n",
              "      <td>SGD</td>\n",
              "      <td>1.140286</td>\n",
              "      <td>60.030790</td>\n",
              "      <td>1.211135</td>\n",
              "      <td>57.947284</td>\n",
              "      <td>117.527867</td>\n",
              "      <td>cuda</td>\n",
              "      <td>Increasing epoch is still giving better result...</td>\n",
              "    </tr>\n",
              "  </tbody>\n",
              "</table>\n",
              "</div>\n",
              "    <div class=\"colab-df-buttons\">\n",
              "\n",
              "  <div class=\"colab-df-container\">\n",
              "    <button class=\"colab-df-convert\" onclick=\"convertToInteractive('df-1f57cc7b-e4f5-4985-b923-d9d3163653fc')\"\n",
              "            title=\"Convert this dataframe to an interactive table.\"\n",
              "            style=\"display:none;\">\n",
              "\n",
              "  <svg xmlns=\"http://www.w3.org/2000/svg\" height=\"24px\" viewBox=\"0 -960 960 960\">\n",
              "    <path d=\"M120-120v-720h720v720H120Zm60-500h600v-160H180v160Zm220 220h160v-160H400v160Zm0 220h160v-160H400v160ZM180-400h160v-160H180v160Zm440 0h160v-160H620v160ZM180-180h160v-160H180v160Zm440 0h160v-160H620v160Z\"/>\n",
              "  </svg>\n",
              "    </button>\n",
              "\n",
              "  <style>\n",
              "    .colab-df-container {\n",
              "      display:flex;\n",
              "      gap: 12px;\n",
              "    }\n",
              "\n",
              "    .colab-df-convert {\n",
              "      background-color: #E8F0FE;\n",
              "      border: none;\n",
              "      border-radius: 50%;\n",
              "      cursor: pointer;\n",
              "      display: none;\n",
              "      fill: #1967D2;\n",
              "      height: 32px;\n",
              "      padding: 0 0 0 0;\n",
              "      width: 32px;\n",
              "    }\n",
              "\n",
              "    .colab-df-convert:hover {\n",
              "      background-color: #E2EBFA;\n",
              "      box-shadow: 0px 1px 2px rgba(60, 64, 67, 0.3), 0px 1px 3px 1px rgba(60, 64, 67, 0.15);\n",
              "      fill: #174EA6;\n",
              "    }\n",
              "\n",
              "    .colab-df-buttons div {\n",
              "      margin-bottom: 4px;\n",
              "    }\n",
              "\n",
              "    [theme=dark] .colab-df-convert {\n",
              "      background-color: #3B4455;\n",
              "      fill: #D2E3FC;\n",
              "    }\n",
              "\n",
              "    [theme=dark] .colab-df-convert:hover {\n",
              "      background-color: #434B5C;\n",
              "      box-shadow: 0px 1px 3px 1px rgba(0, 0, 0, 0.15);\n",
              "      filter: drop-shadow(0px 1px 2px rgba(0, 0, 0, 0.3));\n",
              "      fill: #FFFFFF;\n",
              "    }\n",
              "  </style>\n",
              "\n",
              "    <script>\n",
              "      const buttonEl =\n",
              "        document.querySelector('#df-1f57cc7b-e4f5-4985-b923-d9d3163653fc button.colab-df-convert');\n",
              "      buttonEl.style.display =\n",
              "        google.colab.kernel.accessAllowed ? 'block' : 'none';\n",
              "\n",
              "      async function convertToInteractive(key) {\n",
              "        const element = document.querySelector('#df-1f57cc7b-e4f5-4985-b923-d9d3163653fc');\n",
              "        const dataTable =\n",
              "          await google.colab.kernel.invokeFunction('convertToInteractive',\n",
              "                                                    [key], {});\n",
              "        if (!dataTable) return;\n",
              "\n",
              "        const docLinkHtml = 'Like what you see? Visit the ' +\n",
              "          '<a target=\"_blank\" href=https://colab.research.google.com/notebooks/data_table.ipynb>data table notebook</a>'\n",
              "          + ' to learn more about interactive tables.';\n",
              "        element.innerHTML = '';\n",
              "        dataTable['output_type'] = 'display_data';\n",
              "        await google.colab.output.renderOutput(dataTable, element);\n",
              "        const docLink = document.createElement('div');\n",
              "        docLink.innerHTML = docLinkHtml;\n",
              "        element.appendChild(docLink);\n",
              "      }\n",
              "    </script>\n",
              "  </div>\n",
              "\n",
              "\n",
              "<div id=\"df-46306447-043c-4674-aab3-323bd9e0e080\">\n",
              "  <button class=\"colab-df-quickchart\" onclick=\"quickchart('df-46306447-043c-4674-aab3-323bd9e0e080')\"\n",
              "            title=\"Suggest charts\"\n",
              "            style=\"display:none;\">\n",
              "\n",
              "<svg xmlns=\"http://www.w3.org/2000/svg\" height=\"24px\"viewBox=\"0 0 24 24\"\n",
              "     width=\"24px\">\n",
              "    <g>\n",
              "        <path d=\"M19 3H5c-1.1 0-2 .9-2 2v14c0 1.1.9 2 2 2h14c1.1 0 2-.9 2-2V5c0-1.1-.9-2-2-2zM9 17H7v-7h2v7zm4 0h-2V7h2v10zm4 0h-2v-4h2v4z\"/>\n",
              "    </g>\n",
              "</svg>\n",
              "  </button>\n",
              "\n",
              "<style>\n",
              "  .colab-df-quickchart {\n",
              "      --bg-color: #E8F0FE;\n",
              "      --fill-color: #1967D2;\n",
              "      --hover-bg-color: #E2EBFA;\n",
              "      --hover-fill-color: #174EA6;\n",
              "      --disabled-fill-color: #AAA;\n",
              "      --disabled-bg-color: #DDD;\n",
              "  }\n",
              "\n",
              "  [theme=dark] .colab-df-quickchart {\n",
              "      --bg-color: #3B4455;\n",
              "      --fill-color: #D2E3FC;\n",
              "      --hover-bg-color: #434B5C;\n",
              "      --hover-fill-color: #FFFFFF;\n",
              "      --disabled-bg-color: #3B4455;\n",
              "      --disabled-fill-color: #666;\n",
              "  }\n",
              "\n",
              "  .colab-df-quickchart {\n",
              "    background-color: var(--bg-color);\n",
              "    border: none;\n",
              "    border-radius: 50%;\n",
              "    cursor: pointer;\n",
              "    display: none;\n",
              "    fill: var(--fill-color);\n",
              "    height: 32px;\n",
              "    padding: 0;\n",
              "    width: 32px;\n",
              "  }\n",
              "\n",
              "  .colab-df-quickchart:hover {\n",
              "    background-color: var(--hover-bg-color);\n",
              "    box-shadow: 0 1px 2px rgba(60, 64, 67, 0.3), 0 1px 3px 1px rgba(60, 64, 67, 0.15);\n",
              "    fill: var(--button-hover-fill-color);\n",
              "  }\n",
              "\n",
              "  .colab-df-quickchart-complete:disabled,\n",
              "  .colab-df-quickchart-complete:disabled:hover {\n",
              "    background-color: var(--disabled-bg-color);\n",
              "    fill: var(--disabled-fill-color);\n",
              "    box-shadow: none;\n",
              "  }\n",
              "\n",
              "  .colab-df-spinner {\n",
              "    border: 2px solid var(--fill-color);\n",
              "    border-color: transparent;\n",
              "    border-bottom-color: var(--fill-color);\n",
              "    animation:\n",
              "      spin 1s steps(1) infinite;\n",
              "  }\n",
              "\n",
              "  @keyframes spin {\n",
              "    0% {\n",
              "      border-color: transparent;\n",
              "      border-bottom-color: var(--fill-color);\n",
              "      border-left-color: var(--fill-color);\n",
              "    }\n",
              "    20% {\n",
              "      border-color: transparent;\n",
              "      border-left-color: var(--fill-color);\n",
              "      border-top-color: var(--fill-color);\n",
              "    }\n",
              "    30% {\n",
              "      border-color: transparent;\n",
              "      border-left-color: var(--fill-color);\n",
              "      border-top-color: var(--fill-color);\n",
              "      border-right-color: var(--fill-color);\n",
              "    }\n",
              "    40% {\n",
              "      border-color: transparent;\n",
              "      border-right-color: var(--fill-color);\n",
              "      border-top-color: var(--fill-color);\n",
              "    }\n",
              "    60% {\n",
              "      border-color: transparent;\n",
              "      border-right-color: var(--fill-color);\n",
              "    }\n",
              "    80% {\n",
              "      border-color: transparent;\n",
              "      border-right-color: var(--fill-color);\n",
              "      border-bottom-color: var(--fill-color);\n",
              "    }\n",
              "    90% {\n",
              "      border-color: transparent;\n",
              "      border-bottom-color: var(--fill-color);\n",
              "    }\n",
              "  }\n",
              "</style>\n",
              "\n",
              "  <script>\n",
              "    async function quickchart(key) {\n",
              "      const quickchartButtonEl =\n",
              "        document.querySelector('#' + key + ' button');\n",
              "      quickchartButtonEl.disabled = true;  // To prevent multiple clicks.\n",
              "      quickchartButtonEl.classList.add('colab-df-spinner');\n",
              "      try {\n",
              "        const charts = await google.colab.kernel.invokeFunction(\n",
              "            'suggestCharts', [key], {});\n",
              "      } catch (error) {\n",
              "        console.error('Error during call to suggestCharts:', error);\n",
              "      }\n",
              "      quickchartButtonEl.classList.remove('colab-df-spinner');\n",
              "      quickchartButtonEl.classList.add('colab-df-quickchart-complete');\n",
              "    }\n",
              "    (() => {\n",
              "      let quickchartButtonEl =\n",
              "        document.querySelector('#df-46306447-043c-4674-aab3-323bd9e0e080 button');\n",
              "      quickchartButtonEl.style.display =\n",
              "        google.colab.kernel.accessAllowed ? 'block' : 'none';\n",
              "    })();\n",
              "  </script>\n",
              "</div>\n",
              "\n",
              "  <div id=\"id_c771a480-6eeb-4ed2-90e1-8d61b86738f6\">\n",
              "    <style>\n",
              "      .colab-df-generate {\n",
              "        background-color: #E8F0FE;\n",
              "        border: none;\n",
              "        border-radius: 50%;\n",
              "        cursor: pointer;\n",
              "        display: none;\n",
              "        fill: #1967D2;\n",
              "        height: 32px;\n",
              "        padding: 0 0 0 0;\n",
              "        width: 32px;\n",
              "      }\n",
              "\n",
              "      .colab-df-generate:hover {\n",
              "        background-color: #E2EBFA;\n",
              "        box-shadow: 0px 1px 2px rgba(60, 64, 67, 0.3), 0px 1px 3px 1px rgba(60, 64, 67, 0.15);\n",
              "        fill: #174EA6;\n",
              "      }\n",
              "\n",
              "      [theme=dark] .colab-df-generate {\n",
              "        background-color: #3B4455;\n",
              "        fill: #D2E3FC;\n",
              "      }\n",
              "\n",
              "      [theme=dark] .colab-df-generate:hover {\n",
              "        background-color: #434B5C;\n",
              "        box-shadow: 0px 1px 3px 1px rgba(0, 0, 0, 0.15);\n",
              "        filter: drop-shadow(0px 1px 2px rgba(0, 0, 0, 0.3));\n",
              "        fill: #FFFFFF;\n",
              "      }\n",
              "    </style>\n",
              "    <button class=\"colab-df-generate\" onclick=\"generateWithVariable('comparision_df')\"\n",
              "            title=\"Generate code using this dataframe.\"\n",
              "            style=\"display:none;\">\n",
              "\n",
              "  <svg xmlns=\"http://www.w3.org/2000/svg\" height=\"24px\"viewBox=\"0 0 24 24\"\n",
              "       width=\"24px\">\n",
              "    <path d=\"M7,19H8.4L18.45,9,17,7.55,7,17.6ZM5,21V16.75L18.45,3.32a2,2,0,0,1,2.83,0l1.4,1.43a1.91,1.91,0,0,1,.58,1.4,1.91,1.91,0,0,1-.58,1.4L9.25,21ZM18.45,9,17,7.55Zm-12,3A5.31,5.31,0,0,0,4.9,8.1,5.31,5.31,0,0,0,1,6.5,5.31,5.31,0,0,0,4.9,4.9,5.31,5.31,0,0,0,6.5,1,5.31,5.31,0,0,0,8.1,4.9,5.31,5.31,0,0,0,12,6.5,5.46,5.46,0,0,0,6.5,12Z\"/>\n",
              "  </svg>\n",
              "    </button>\n",
              "    <script>\n",
              "      (() => {\n",
              "      const buttonEl =\n",
              "        document.querySelector('#id_c771a480-6eeb-4ed2-90e1-8d61b86738f6 button.colab-df-generate');\n",
              "      buttonEl.style.display =\n",
              "        google.colab.kernel.accessAllowed ? 'block' : 'none';\n",
              "\n",
              "      buttonEl.onclick = () => {\n",
              "        google.colab.notebook.generateWithVariable('comparision_df');\n",
              "      }\n",
              "      })();\n",
              "    </script>\n",
              "  </div>\n",
              "\n",
              "    </div>\n",
              "  </div>\n"
            ],
            "application/vnd.google.colaboratory.intrinsic+json": {
              "type": "dataframe",
              "variable_name": "comparision_df",
              "summary": "{\n  \"name\": \"comparision_df\",\n  \"rows\": 2,\n  \"fields\": [\n    {\n      \"column\": \"model_name\",\n      \"properties\": {\n        \"dtype\": \"string\",\n        \"num_unique_values\": 1,\n        \"samples\": [\n          \"ModelV1\"\n        ],\n        \"semantic_type\": \"\",\n        \"description\": \"\"\n      }\n    },\n    {\n      \"column\": \"learning_rate\",\n      \"properties\": {\n        \"dtype\": \"number\",\n        \"std\": 0.0,\n        \"min\": 0.1,\n        \"max\": 0.1,\n        \"num_unique_values\": 1,\n        \"samples\": [\n          0.1\n        ],\n        \"semantic_type\": \"\",\n        \"description\": \"\"\n      }\n    },\n    {\n      \"column\": \"epochs\",\n      \"properties\": {\n        \"dtype\": \"number\",\n        \"std\": 3,\n        \"min\": 5,\n        \"max\": 10,\n        \"num_unique_values\": 2,\n        \"samples\": [\n          10\n        ],\n        \"semantic_type\": \"\",\n        \"description\": \"\"\n      }\n    },\n    {\n      \"column\": \"optimizer\",\n      \"properties\": {\n        \"dtype\": \"string\",\n        \"num_unique_values\": 1,\n        \"samples\": [\n          \"SGD\"\n        ],\n        \"semantic_type\": \"\",\n        \"description\": \"\"\n      }\n    },\n    {\n      \"column\": \"train_loss\",\n      \"properties\": {\n        \"dtype\": \"number\",\n        \"std\": 0.051720842324931696,\n        \"min\": 1.1402863264083862,\n        \"max\": 1.213430643081665,\n        \"num_unique_values\": 2,\n        \"samples\": [\n          1.1402863264083862\n        ],\n        \"semantic_type\": \"\",\n        \"description\": \"\"\n      }\n    },\n    {\n      \"column\": \"train_accuracy\",\n      \"properties\": {\n        \"dtype\": \"number\",\n        \"std\": 1.9382665487179274,\n        \"min\": 57.28966730646193,\n        \"max\": 60.03079014715291,\n        \"num_unique_values\": 2,\n        \"samples\": [\n          60.03079014715291\n        ],\n        \"semantic_type\": \"\",\n        \"description\": \"\"\n      }\n    },\n    {\n      \"column\": \"test_loss\",\n      \"properties\": {\n        \"dtype\": \"number\",\n        \"std\": 0.038637701903877,\n        \"min\": 1.2111352682113647,\n        \"max\": 1.2657772302627563,\n        \"num_unique_values\": 2,\n        \"samples\": [\n          1.2111352682113647\n        ],\n        \"semantic_type\": \"\",\n        \"description\": \"\"\n      }\n    },\n    {\n      \"column\": \"test_accuracy\",\n      \"properties\": {\n        \"dtype\": \"number\",\n        \"std\": 1.6590464614500668,\n        \"min\": 55.60103833865815,\n        \"max\": 57.947284345047926,\n        \"num_unique_values\": 2,\n        \"samples\": [\n          57.947284345047926\n        ],\n        \"semantic_type\": \"\",\n        \"description\": \"\"\n      }\n    },\n    {\n      \"column\": \"time_taken\",\n      \"properties\": {\n        \"dtype\": \"number\",\n        \"std\": 41.57192208887183,\n        \"min\": 58.73629122499983,\n        \"max\": 117.52786725700003,\n        \"num_unique_values\": 2,\n        \"samples\": [\n          117.52786725700003\n        ],\n        \"semantic_type\": \"\",\n        \"description\": \"\"\n      }\n    },\n    {\n      \"column\": \"device\",\n      \"properties\": {\n        \"dtype\": \"string\",\n        \"num_unique_values\": 1,\n        \"samples\": [\n          \"cuda\"\n        ],\n        \"semantic_type\": \"\",\n        \"description\": \"\"\n      }\n    },\n    {\n      \"column\": \"comment\",\n      \"properties\": {\n        \"dtype\": \"string\",\n        \"num_unique_values\": 2,\n        \"samples\": [\n          \"Increasing epoch is still giving better results, Also the jump is crazy\"\n        ],\n        \"semantic_type\": \"\",\n        \"description\": \"\"\n      }\n    }\n  ]\n}"
            }
          },
          "metadata": {},
          "execution_count": 100
        }
      ]
    },
    {
      "cell_type": "markdown",
      "source": [
        "----"
      ],
      "metadata": {
        "id": "6RXShuR7_Ksz"
      }
    },
    {
      "cell_type": "code",
      "source": [
        "# Epoch: 20\n",
        "\n",
        "modelV1_2 = ModelV1(input_units=3,\n",
        "                  hidden_units=10,\n",
        "                  output_units=len(class_names)).to(device)\n",
        "\n",
        "learning_rate = 0.1\n",
        "optimizer = torch.optim.SGD(params=modelV1_2.parameters(), lr=learning_rate)\n",
        "\n",
        "epochs = 20\n",
        "\n",
        "start_time_1 = timer()\n",
        "\n",
        "for epoch in tqdm(range(epochs)):\n",
        "  print(f\"--- Epoch: {epoch} ---\")\n",
        "  train_acc, train_loss = training_loop(model=modelV1_2,\n",
        "                dataloader=train_dataloader,\n",
        "                loss_fn=loss_fn,\n",
        "                accuracy_fn=accuracy_fn,\n",
        "                optimizer=optimizer,\n",
        "                device=device)\n",
        "\n",
        "  test_acc, test_loss = testing_loop(model=modelV1_2,\n",
        "              dataloader=test_dataloader,\n",
        "              loss_fn=loss_fn,\n",
        "              accuracy_fn=accuracy_fn,\n",
        "              device=device)\n",
        "  print(\"-------------------------------\")\n",
        "\n",
        "  # Store metrics\n",
        "  train_losses.append(train_loss.item())\n",
        "  test_losses.append(test_loss.item())\n",
        "  train_accuracies.append(train_acc)\n",
        "  test_accuracies.append(test_acc)\n",
        "\n",
        "\n",
        "end_timer_1 = timer()\n",
        "\n",
        "# Plot the metrics\n",
        "plot_metrics(train_losses, test_losses, train_accuracies, test_accuracies)\n",
        "\n",
        "total_time_model_V1 = print_time(start=start_time_1, end=end_timer_1, device=device)"
      ],
      "metadata": {
        "colab": {
          "base_uri": "https://localhost:8080/",
          "height": 1000,
          "referenced_widgets": [
            "2be9d78fdcb845779ae05b770e42cf9c",
            "ae1539de9a8c46d3bc4bf0ba8b48fc1b",
            "aff748ebf50e402996513125d37a9c4d",
            "f3fd4e6ece0d4066a5ff21d2d04d5cd9",
            "3aa7e53e1d754e7f825f724cea322a8b",
            "0a52213a10354b8cbbbca69872cd6bb2",
            "284f0394984847b3b80dca7232578130",
            "a6094fd7aa2c422a8d0aa66c16b555c6",
            "0e6d5bb273764a779cb0d57a4202c5df",
            "c601b18e9ef348a9b7e2b3be50e3221b",
            "dcde6081e8cf40dab2d818c375149180"
          ]
        },
        "id": "I4gnA60T-41j",
        "outputId": "97ad1914-b943-4b96-c670-1fdc1bf7b4cc"
      },
      "execution_count": null,
      "outputs": [
        {
          "output_type": "display_data",
          "data": {
            "text/plain": [
              "  0%|          | 0/20 [00:00<?, ?it/s]"
            ],
            "application/vnd.jupyter.widget-view+json": {
              "version_major": 2,
              "version_minor": 0,
              "model_id": "2be9d78fdcb845779ae05b770e42cf9c"
            }
          },
          "metadata": {}
        },
        {
          "output_type": "stream",
          "name": "stdout",
          "text": [
            "--- Epoch: 0 ---\n",
            "0 BATCH HAS BEEN COMPLETED..\n",
            "200 BATCH HAS BEEN COMPLETED..\n",
            "400 BATCH HAS BEEN COMPLETED..\n",
            "600 BATCH HAS BEEN COMPLETED..\n",
            "800 BATCH HAS BEEN COMPLETED..\n",
            "1000 BATCH HAS BEEN COMPLETED..\n",
            "1200 BATCH HAS BEEN COMPLETED..\n",
            "1400 BATCH HAS BEEN COMPLETED..\n",
            "Train Loss: 1.95758 | Train Accuracy: 28.17%\n",
            "Test Loss: 1.72605 || Test Accuracy: 38.81%\n",
            "-------------------------------\n",
            "--- Epoch: 1 ---\n",
            "0 BATCH HAS BEEN COMPLETED..\n",
            "200 BATCH HAS BEEN COMPLETED..\n",
            "400 BATCH HAS BEEN COMPLETED..\n",
            "600 BATCH HAS BEEN COMPLETED..\n",
            "800 BATCH HAS BEEN COMPLETED..\n",
            "1000 BATCH HAS BEEN COMPLETED..\n",
            "1200 BATCH HAS BEEN COMPLETED..\n",
            "1400 BATCH HAS BEEN COMPLETED..\n",
            "Train Loss: 1.45675 | Train Accuracy: 47.94%\n",
            "Test Loss: 1.40125 || Test Accuracy: 49.61%\n",
            "-------------------------------\n",
            "--- Epoch: 2 ---\n",
            "0 BATCH HAS BEEN COMPLETED..\n",
            "200 BATCH HAS BEEN COMPLETED..\n",
            "400 BATCH HAS BEEN COMPLETED..\n",
            "600 BATCH HAS BEEN COMPLETED..\n",
            "800 BATCH HAS BEEN COMPLETED..\n",
            "1000 BATCH HAS BEEN COMPLETED..\n",
            "1200 BATCH HAS BEEN COMPLETED..\n",
            "1400 BATCH HAS BEEN COMPLETED..\n",
            "Train Loss: 1.33711 | Train Accuracy: 52.68%\n",
            "Test Loss: 1.36165 || Test Accuracy: 51.61%\n",
            "-------------------------------\n",
            "--- Epoch: 3 ---\n",
            "0 BATCH HAS BEEN COMPLETED..\n",
            "200 BATCH HAS BEEN COMPLETED..\n",
            "400 BATCH HAS BEEN COMPLETED..\n",
            "600 BATCH HAS BEEN COMPLETED..\n",
            "800 BATCH HAS BEEN COMPLETED..\n",
            "1000 BATCH HAS BEEN COMPLETED..\n",
            "1200 BATCH HAS BEEN COMPLETED..\n",
            "1400 BATCH HAS BEEN COMPLETED..\n",
            "Train Loss: 1.26303 | Train Accuracy: 55.59%\n",
            "Test Loss: 1.32998 || Test Accuracy: 54.28%\n",
            "-------------------------------\n",
            "--- Epoch: 4 ---\n",
            "0 BATCH HAS BEEN COMPLETED..\n",
            "200 BATCH HAS BEEN COMPLETED..\n",
            "400 BATCH HAS BEEN COMPLETED..\n",
            "600 BATCH HAS BEEN COMPLETED..\n",
            "800 BATCH HAS BEEN COMPLETED..\n",
            "1000 BATCH HAS BEEN COMPLETED..\n",
            "1200 BATCH HAS BEEN COMPLETED..\n",
            "1400 BATCH HAS BEEN COMPLETED..\n",
            "Train Loss: 1.21673 | Train Accuracy: 57.27%\n",
            "Test Loss: 1.33733 || Test Accuracy: 54.49%\n",
            "-------------------------------\n",
            "--- Epoch: 5 ---\n",
            "0 BATCH HAS BEEN COMPLETED..\n",
            "200 BATCH HAS BEEN COMPLETED..\n",
            "400 BATCH HAS BEEN COMPLETED..\n",
            "600 BATCH HAS BEEN COMPLETED..\n",
            "800 BATCH HAS BEEN COMPLETED..\n",
            "1000 BATCH HAS BEEN COMPLETED..\n",
            "1200 BATCH HAS BEEN COMPLETED..\n",
            "1400 BATCH HAS BEEN COMPLETED..\n",
            "Train Loss: 1.18296 | Train Accuracy: 58.42%\n",
            "Test Loss: 1.53212 || Test Accuracy: 47.66%\n",
            "-------------------------------\n",
            "--- Epoch: 6 ---\n",
            "0 BATCH HAS BEEN COMPLETED..\n",
            "200 BATCH HAS BEEN COMPLETED..\n",
            "400 BATCH HAS BEEN COMPLETED..\n",
            "600 BATCH HAS BEEN COMPLETED..\n",
            "800 BATCH HAS BEEN COMPLETED..\n",
            "1000 BATCH HAS BEEN COMPLETED..\n",
            "1200 BATCH HAS BEEN COMPLETED..\n",
            "1400 BATCH HAS BEEN COMPLETED..\n",
            "Train Loss: 1.15636 | Train Accuracy: 59.57%\n",
            "Test Loss: 1.15906 || Test Accuracy: 59.48%\n",
            "-------------------------------\n",
            "--- Epoch: 7 ---\n",
            "0 BATCH HAS BEEN COMPLETED..\n",
            "200 BATCH HAS BEEN COMPLETED..\n",
            "400 BATCH HAS BEEN COMPLETED..\n",
            "600 BATCH HAS BEEN COMPLETED..\n",
            "800 BATCH HAS BEEN COMPLETED..\n",
            "1000 BATCH HAS BEEN COMPLETED..\n",
            "1200 BATCH HAS BEEN COMPLETED..\n",
            "1400 BATCH HAS BEEN COMPLETED..\n",
            "Train Loss: 1.14154 | Train Accuracy: 59.89%\n",
            "Test Loss: 1.31006 || Test Accuracy: 55.69%\n",
            "-------------------------------\n",
            "--- Epoch: 8 ---\n",
            "0 BATCH HAS BEEN COMPLETED..\n",
            "200 BATCH HAS BEEN COMPLETED..\n",
            "400 BATCH HAS BEEN COMPLETED..\n",
            "600 BATCH HAS BEEN COMPLETED..\n",
            "800 BATCH HAS BEEN COMPLETED..\n",
            "1000 BATCH HAS BEEN COMPLETED..\n",
            "1200 BATCH HAS BEEN COMPLETED..\n",
            "1400 BATCH HAS BEEN COMPLETED..\n",
            "Train Loss: 1.12365 | Train Accuracy: 60.54%\n",
            "Test Loss: 1.24248 || Test Accuracy: 57.13%\n",
            "-------------------------------\n",
            "--- Epoch: 9 ---\n",
            "0 BATCH HAS BEEN COMPLETED..\n",
            "200 BATCH HAS BEEN COMPLETED..\n",
            "400 BATCH HAS BEEN COMPLETED..\n",
            "600 BATCH HAS BEEN COMPLETED..\n",
            "800 BATCH HAS BEEN COMPLETED..\n",
            "1000 BATCH HAS BEEN COMPLETED..\n",
            "1200 BATCH HAS BEEN COMPLETED..\n",
            "1400 BATCH HAS BEEN COMPLETED..\n",
            "Train Loss: 1.11761 | Train Accuracy: 60.58%\n",
            "Test Loss: 1.18704 || Test Accuracy: 59.27%\n",
            "-------------------------------\n",
            "--- Epoch: 10 ---\n",
            "0 BATCH HAS BEEN COMPLETED..\n",
            "200 BATCH HAS BEEN COMPLETED..\n",
            "400 BATCH HAS BEEN COMPLETED..\n",
            "600 BATCH HAS BEEN COMPLETED..\n",
            "800 BATCH HAS BEEN COMPLETED..\n",
            "1000 BATCH HAS BEEN COMPLETED..\n",
            "1200 BATCH HAS BEEN COMPLETED..\n",
            "1400 BATCH HAS BEEN COMPLETED..\n",
            "Train Loss: 1.10513 | Train Accuracy: 61.40%\n",
            "Test Loss: 1.17428 || Test Accuracy: 59.82%\n",
            "-------------------------------\n",
            "--- Epoch: 11 ---\n",
            "0 BATCH HAS BEEN COMPLETED..\n",
            "200 BATCH HAS BEEN COMPLETED..\n",
            "400 BATCH HAS BEEN COMPLETED..\n",
            "600 BATCH HAS BEEN COMPLETED..\n",
            "800 BATCH HAS BEEN COMPLETED..\n",
            "1000 BATCH HAS BEEN COMPLETED..\n",
            "1200 BATCH HAS BEEN COMPLETED..\n",
            "1400 BATCH HAS BEEN COMPLETED..\n",
            "Train Loss: 1.10235 | Train Accuracy: 61.28%\n",
            "Test Loss: 1.29921 || Test Accuracy: 54.97%\n",
            "-------------------------------\n",
            "--- Epoch: 12 ---\n",
            "0 BATCH HAS BEEN COMPLETED..\n",
            "200 BATCH HAS BEEN COMPLETED..\n",
            "400 BATCH HAS BEEN COMPLETED..\n",
            "600 BATCH HAS BEEN COMPLETED..\n",
            "800 BATCH HAS BEEN COMPLETED..\n",
            "1000 BATCH HAS BEEN COMPLETED..\n",
            "1200 BATCH HAS BEEN COMPLETED..\n",
            "1400 BATCH HAS BEEN COMPLETED..\n",
            "Train Loss: 1.08762 | Train Accuracy: 62.05%\n",
            "Test Loss: 1.19647 || Test Accuracy: 58.33%\n",
            "-------------------------------\n",
            "--- Epoch: 13 ---\n",
            "0 BATCH HAS BEEN COMPLETED..\n",
            "200 BATCH HAS BEEN COMPLETED..\n",
            "400 BATCH HAS BEEN COMPLETED..\n",
            "600 BATCH HAS BEEN COMPLETED..\n",
            "800 BATCH HAS BEEN COMPLETED..\n",
            "1000 BATCH HAS BEEN COMPLETED..\n",
            "1200 BATCH HAS BEEN COMPLETED..\n",
            "1400 BATCH HAS BEEN COMPLETED..\n",
            "Train Loss: 1.08318 | Train Accuracy: 61.95%\n",
            "Test Loss: 1.12573 || Test Accuracy: 60.27%\n",
            "-------------------------------\n",
            "--- Epoch: 14 ---\n",
            "0 BATCH HAS BEEN COMPLETED..\n",
            "200 BATCH HAS BEEN COMPLETED..\n",
            "400 BATCH HAS BEEN COMPLETED..\n",
            "600 BATCH HAS BEEN COMPLETED..\n",
            "800 BATCH HAS BEEN COMPLETED..\n",
            "1000 BATCH HAS BEEN COMPLETED..\n",
            "1200 BATCH HAS BEEN COMPLETED..\n",
            "1400 BATCH HAS BEEN COMPLETED..\n",
            "Train Loss: 1.07654 | Train Accuracy: 62.26%\n",
            "Test Loss: 1.29517 || Test Accuracy: 55.44%\n",
            "-------------------------------\n",
            "--- Epoch: 15 ---\n",
            "0 BATCH HAS BEEN COMPLETED..\n",
            "200 BATCH HAS BEEN COMPLETED..\n",
            "400 BATCH HAS BEEN COMPLETED..\n",
            "600 BATCH HAS BEEN COMPLETED..\n",
            "800 BATCH HAS BEEN COMPLETED..\n",
            "1000 BATCH HAS BEEN COMPLETED..\n",
            "1200 BATCH HAS BEEN COMPLETED..\n",
            "1400 BATCH HAS BEEN COMPLETED..\n",
            "Train Loss: 1.06980 | Train Accuracy: 62.47%\n",
            "Test Loss: 1.15539 || Test Accuracy: 59.99%\n",
            "-------------------------------\n",
            "--- Epoch: 16 ---\n",
            "0 BATCH HAS BEEN COMPLETED..\n",
            "200 BATCH HAS BEEN COMPLETED..\n",
            "400 BATCH HAS BEEN COMPLETED..\n",
            "600 BATCH HAS BEEN COMPLETED..\n",
            "800 BATCH HAS BEEN COMPLETED..\n",
            "1000 BATCH HAS BEEN COMPLETED..\n",
            "1200 BATCH HAS BEEN COMPLETED..\n",
            "1400 BATCH HAS BEEN COMPLETED..\n",
            "Train Loss: 1.06634 | Train Accuracy: 62.71%\n",
            "Test Loss: 1.12927 || Test Accuracy: 60.99%\n",
            "-------------------------------\n",
            "--- Epoch: 17 ---\n",
            "0 BATCH HAS BEEN COMPLETED..\n",
            "200 BATCH HAS BEEN COMPLETED..\n",
            "400 BATCH HAS BEEN COMPLETED..\n",
            "600 BATCH HAS BEEN COMPLETED..\n",
            "800 BATCH HAS BEEN COMPLETED..\n",
            "1000 BATCH HAS BEEN COMPLETED..\n",
            "1200 BATCH HAS BEEN COMPLETED..\n",
            "1400 BATCH HAS BEEN COMPLETED..\n",
            "Train Loss: 1.06261 | Train Accuracy: 62.59%\n",
            "Test Loss: 1.16215 || Test Accuracy: 60.51%\n",
            "-------------------------------\n",
            "--- Epoch: 18 ---\n",
            "0 BATCH HAS BEEN COMPLETED..\n",
            "200 BATCH HAS BEEN COMPLETED..\n",
            "400 BATCH HAS BEEN COMPLETED..\n",
            "600 BATCH HAS BEEN COMPLETED..\n",
            "800 BATCH HAS BEEN COMPLETED..\n",
            "1000 BATCH HAS BEEN COMPLETED..\n",
            "1200 BATCH HAS BEEN COMPLETED..\n",
            "1400 BATCH HAS BEEN COMPLETED..\n",
            "Train Loss: 1.05515 | Train Accuracy: 62.99%\n",
            "Test Loss: 1.21407 || Test Accuracy: 57.63%\n",
            "-------------------------------\n",
            "--- Epoch: 19 ---\n",
            "0 BATCH HAS BEEN COMPLETED..\n",
            "200 BATCH HAS BEEN COMPLETED..\n",
            "400 BATCH HAS BEEN COMPLETED..\n",
            "600 BATCH HAS BEEN COMPLETED..\n",
            "800 BATCH HAS BEEN COMPLETED..\n",
            "1000 BATCH HAS BEEN COMPLETED..\n",
            "1200 BATCH HAS BEEN COMPLETED..\n",
            "1400 BATCH HAS BEEN COMPLETED..\n",
            "Train Loss: 1.04984 | Train Accuracy: 63.17%\n",
            "Test Loss: 1.21618 || Test Accuracy: 57.98%\n",
            "-------------------------------\n"
          ]
        },
        {
          "output_type": "display_data",
          "data": {
            "text/plain": [
              "<Figure size 1200x500 with 2 Axes>"
            ],
            "image/png": "[encoded data removed]"
          },
          "metadata": {}
        },
        {
          "output_type": "stream",
          "name": "stdout",
          "text": [
            "Total time taken on cuda: 237.083 seconds\n"
          ]
        }
      ]
    },
    {
      "cell_type": "code",
      "source": [
        "eval_model_V1_2 = evaluation(model=modelV1_2,\n",
        "                             train_acc=train_acc,\n",
        "                              train_loss=train_loss,\n",
        "                              test_acc=test_acc,\n",
        "                              test_loss=test_loss,\n",
        "                              epochs=epochs,\n",
        "                              learning_rate=learning_rate,\n",
        "                              optimizer_name='SGD',\n",
        "                              time_taken=total_time_model_V1,\n",
        "                              device=device)"
      ],
      "metadata": {
        "id": "0KMHp0ke_Uai"
      },
      "execution_count": null,
      "outputs": []
    },
    {
      "cell_type": "code",
      "source": [
        "comparision_df = pd.DataFrame([eval_model_V1,eval_model_V1_1, eval_model_V1_2])\n",
        "comparision_df['comment'] = ['Let\\'s try increasing the epoch',\n",
        "                             'Increasing epoch is still giving better results',\n",
        "                             'Shows sign of overfitting & jumps crazy']"
      ],
      "metadata": {
        "id": "ooobBQaI_jM5"
      },
      "execution_count": null,
      "outputs": []
    },
    {
      "cell_type": "code",
      "source": [
        "comparision_df"
      ],
      "metadata": {
        "colab": {
          "base_uri": "https://localhost:8080/",
          "height": 230
        },
        "id": "2nxWkIAEAwAy",
        "outputId": "865f1a76-e169-4296-df65-e6441d848f0b"
      },
      "execution_count": null,
      "outputs": [
        {
          "output_type": "execute_result",
          "data": {
            "text/plain": [
              "  model_name  learning_rate  epochs optimizer  train_loss  train_accuracy  \\\n",
              "0    ModelV1            0.1       5       SGD    1.213431       57.289667   \n",
              "1    ModelV1            0.1      10       SGD    1.140286       60.030790   \n",
              "2    ModelV1            0.1      20       SGD    1.049841       63.169786   \n",
              "\n",
              "   test_loss  test_accuracy  time_taken device  \\\n",
              "0   1.265777      55.601038   58.736291   cuda   \n",
              "1   1.211135      57.947284  117.527867   cuda   \n",
              "2   1.216180      57.977236  237.083454   cuda   \n",
              "\n",
              "                                           comment  \n",
              "0                   Let's try increasing the epoch  \n",
              "1  Increasing epoch is still giving better results  \n",
              "2          Shows sign of overfitting & jumps crazy  "
            ],
            "text/html": [
              "\n",
              "  <div id=\"df-f061edf8-cea5-43da-b370-34813208f910\" class=\"colab-df-container\">\n",
              "    <div>\n",
              "<style scoped>\n",
              "    .dataframe tbody tr th:only-of-type {\n",
              "        vertical-align: middle;\n",
              "    }\n",
              "\n",
              "    .dataframe tbody tr th {\n",
              "        vertical-align: top;\n",
              "    }\n",
              "\n",
              "    .dataframe thead th {\n",
              "        text-align: right;\n",
              "    }\n",
              "</style>\n",
              "<table border=\"1\" class=\"dataframe\">\n",
              "  <thead>\n",
              "    <tr style=\"text-align: right;\">\n",
              "      <th></th>\n",
              "      <th>model_name</th>\n",
              "      <th>learning_rate</th>\n",
              "      <th>epochs</th>\n",
              "      <th>optimizer</th>\n",
              "      <th>train_loss</th>\n",
              "      <th>train_accuracy</th>\n",
              "      <th>test_loss</th>\n",
              "      <th>test_accuracy</th>\n",
              "      <th>time_taken</th>\n",
              "      <th>device</th>\n",
              "      <th>comment</th>\n",
              "    </tr>\n",
              "  </thead>\n",
              "  <tbody>\n",
              "    <tr>\n",
              "      <th>0</th>\n",
              "      <td>ModelV1</td>\n",
              "      <td>0.1</td>\n",
              "      <td>5</td>\n",
              "      <td>SGD</td>\n",
              "      <td>1.213431</td>\n",
              "      <td>57.289667</td>\n",
              "      <td>1.265777</td>\n",
              "      <td>55.601038</td>\n",
              "      <td>58.736291</td>\n",
              "      <td>cuda</td>\n",
              "      <td>Let's try increasing the epoch</td>\n",
              "    </tr>\n",
              "    <tr>\n",
              "      <th>1</th>\n",
              "      <td>ModelV1</td>\n",
              "      <td>0.1</td>\n",
              "      <td>10</td>\n",
              "      <td>SGD</td>\n",
              "      <td>1.140286</td>\n",
              "      <td>60.030790</td>\n",
              "      <td>1.211135</td>\n",
              "      <td>57.947284</td>\n",
              "      <td>117.527867</td>\n",
              "      <td>cuda</td>\n",
              "      <td>Increasing epoch is still giving better results</td>\n",
              "    </tr>\n",
              "    <tr>\n",
              "      <th>2</th>\n",
              "      <td>ModelV1</td>\n",
              "      <td>0.1</td>\n",
              "      <td>20</td>\n",
              "      <td>SGD</td>\n",
              "      <td>1.049841</td>\n",
              "      <td>63.169786</td>\n",
              "      <td>1.216180</td>\n",
              "      <td>57.977236</td>\n",
              "      <td>237.083454</td>\n",
              "      <td>cuda</td>\n",
              "      <td>Shows sign of overfitting &amp; jumps crazy</td>\n",
              "    </tr>\n",
              "  </tbody>\n",
              "</table>\n",
              "</div>\n",
              "    <div class=\"colab-df-buttons\">\n",
              "\n",
              "  <div class=\"colab-df-container\">\n",
              "    <button class=\"colab-df-convert\" onclick=\"convertToInteractive('df-f061edf8-cea5-43da-b370-34813208f910')\"\n",
              "            title=\"Convert this dataframe to an interactive table.\"\n",
              "            style=\"display:none;\">\n",
              "\n",
              "  <svg xmlns=\"http://www.w3.org/2000/svg\" height=\"24px\" viewBox=\"0 -960 960 960\">\n",
              "    <path d=\"M120-120v-720h720v720H120Zm60-500h600v-160H180v160Zm220 220h160v-160H400v160Zm0 220h160v-160H400v160ZM180-400h160v-160H180v160Zm440 0h160v-160H620v160ZM180-180h160v-160H180v160Zm440 0h160v-160H620v160Z\"/>\n",
              "  </svg>\n",
              "    </button>\n",
              "\n",
              "  <style>\n",
              "    .colab-df-container {\n",
              "      display:flex;\n",
              "      gap: 12px;\n",
              "    }\n",
              "\n",
              "    .colab-df-convert {\n",
              "      background-color: #E8F0FE;\n",
              "      border: none;\n",
              "      border-radius: 50%;\n",
              "      cursor: pointer;\n",
              "      display: none;\n",
              "      fill: #1967D2;\n",
              "      height: 32px;\n",
              "      padding: 0 0 0 0;\n",
              "      width: 32px;\n",
              "    }\n",
              "\n",
              "    .colab-df-convert:hover {\n",
              "      background-color: #E2EBFA;\n",
              "      box-shadow: 0px 1px 2px rgba(60, 64, 67, 0.3), 0px 1px 3px 1px rgba(60, 64, 67, 0.15);\n",
              "      fill: #174EA6;\n",
              "    }\n",
              "\n",
              "    .colab-df-buttons div {\n",
              "      margin-bottom: 4px;\n",
              "    }\n",
              "\n",
              "    [theme=dark] .colab-df-convert {\n",
              "      background-color: #3B4455;\n",
              "      fill: #D2E3FC;\n",
              "    }\n",
              "\n",
              "    [theme=dark] .colab-df-convert:hover {\n",
              "      background-color: #434B5C;\n",
              "      box-shadow: 0px 1px 3px 1px rgba(0, 0, 0, 0.15);\n",
              "      filter: drop-shadow(0px 1px 2px rgba(0, 0, 0, 0.3));\n",
              "      fill: #FFFFFF;\n",
              "    }\n",
              "  </style>\n",
              "\n",
              "    <script>\n",
              "      const buttonEl =\n",
              "        document.querySelector('#df-f061edf8-cea5-43da-b370-34813208f910 button.colab-df-convert');\n",
              "      buttonEl.style.display =\n",
              "        google.colab.kernel.accessAllowed ? 'block' : 'none';\n",
              "\n",
              "      async function convertToInteractive(key) {\n",
              "        const element = document.querySelector('#df-f061edf8-cea5-43da-b370-34813208f910');\n",
              "        const dataTable =\n",
              "          await google.colab.kernel.invokeFunction('convertToInteractive',\n",
              "                                                    [key], {});\n",
              "        if (!dataTable) return;\n",
              "\n",
              "        const docLinkHtml = 'Like what you see? Visit the ' +\n",
              "          '<a target=\"_blank\" href=https://colab.research.google.com/notebooks/data_table.ipynb>data table notebook</a>'\n",
              "          + ' to learn more about interactive tables.';\n",
              "        element.innerHTML = '';\n",
              "        dataTable['output_type'] = 'display_data';\n",
              "        await google.colab.output.renderOutput(dataTable, element);\n",
              "        const docLink = document.createElement('div');\n",
              "        docLink.innerHTML = docLinkHtml;\n",
              "        element.appendChild(docLink);\n",
              "      }\n",
              "    </script>\n",
              "  </div>\n",
              "\n",
              "\n",
              "<div id=\"df-29e196b3-920e-4de1-96f1-0afb8b361fb0\">\n",
              "  <button class=\"colab-df-quickchart\" onclick=\"quickchart('df-29e196b3-920e-4de1-96f1-0afb8b361fb0')\"\n",
              "            title=\"Suggest charts\"\n",
              "            style=\"display:none;\">\n",
              "\n",
              "<svg xmlns=\"http://www.w3.org/2000/svg\" height=\"24px\"viewBox=\"0 0 24 24\"\n",
              "     width=\"24px\">\n",
              "    <g>\n",
              "        <path d=\"M19 3H5c-1.1 0-2 .9-2 2v14c0 1.1.9 2 2 2h14c1.1 0 2-.9 2-2V5c0-1.1-.9-2-2-2zM9 17H7v-7h2v7zm4 0h-2V7h2v10zm4 0h-2v-4h2v4z\"/>\n",
              "    </g>\n",
              "</svg>\n",
              "  </button>\n",
              "\n",
              "<style>\n",
              "  .colab-df-quickchart {\n",
              "      --bg-color: #E8F0FE;\n",
              "      --fill-color: #1967D2;\n",
              "      --hover-bg-color: #E2EBFA;\n",
              "      --hover-fill-color: #174EA6;\n",
              "      --disabled-fill-color: #AAA;\n",
              "      --disabled-bg-color: #DDD;\n",
              "  }\n",
              "\n",
              "  [theme=dark] .colab-df-quickchart {\n",
              "      --bg-color: #3B4455;\n",
              "      --fill-color: #D2E3FC;\n",
              "      --hover-bg-color: #434B5C;\n",
              "      --hover-fill-color: #FFFFFF;\n",
              "      --disabled-bg-color: #3B4455;\n",
              "      --disabled-fill-color: #666;\n",
              "  }\n",
              "\n",
              "  .colab-df-quickchart {\n",
              "    background-color: var(--bg-color);\n",
              "    border: none;\n",
              "    border-radius: 50%;\n",
              "    cursor: pointer;\n",
              "    display: none;\n",
              "    fill: var(--fill-color);\n",
              "    height: 32px;\n",
              "    padding: 0;\n",
              "    width: 32px;\n",
              "  }\n",
              "\n",
              "  .colab-df-quickchart:hover {\n",
              "    background-color: var(--hover-bg-color);\n",
              "    box-shadow: 0 1px 2px rgba(60, 64, 67, 0.3), 0 1px 3px 1px rgba(60, 64, 67, 0.15);\n",
              "    fill: var(--button-hover-fill-color);\n",
              "  }\n",
              "\n",
              "  .colab-df-quickchart-complete:disabled,\n",
              "  .colab-df-quickchart-complete:disabled:hover {\n",
              "    background-color: var(--disabled-bg-color);\n",
              "    fill: var(--disabled-fill-color);\n",
              "    box-shadow: none;\n",
              "  }\n",
              "\n",
              "  .colab-df-spinner {\n",
              "    border: 2px solid var(--fill-color);\n",
              "    border-color: transparent;\n",
              "    border-bottom-color: var(--fill-color);\n",
              "    animation:\n",
              "      spin 1s steps(1) infinite;\n",
              "  }\n",
              "\n",
              "  @keyframes spin {\n",
              "    0% {\n",
              "      border-color: transparent;\n",
              "      border-bottom-color: var(--fill-color);\n",
              "      border-left-color: var(--fill-color);\n",
              "    }\n",
              "    20% {\n",
              "      border-color: transparent;\n",
              "      border-left-color: var(--fill-color);\n",
              "      border-top-color: var(--fill-color);\n",
              "    }\n",
              "    30% {\n",
              "      border-color: transparent;\n",
              "      border-left-color: var(--fill-color);\n",
              "      border-top-color: var(--fill-color);\n",
              "      border-right-color: var(--fill-color);\n",
              "    }\n",
              "    40% {\n",
              "      border-color: transparent;\n",
              "      border-right-color: var(--fill-color);\n",
              "      border-top-color: var(--fill-color);\n",
              "    }\n",
              "    60% {\n",
              "      border-color: transparent;\n",
              "      border-right-color: var(--fill-color);\n",
              "    }\n",
              "    80% {\n",
              "      border-color: transparent;\n",
              "      border-right-color: var(--fill-color);\n",
              "      border-bottom-color: var(--fill-color);\n",
              "    }\n",
              "    90% {\n",
              "      border-color: transparent;\n",
              "      border-bottom-color: var(--fill-color);\n",
              "    }\n",
              "  }\n",
              "</style>\n",
              "\n",
              "  <script>\n",
              "    async function quickchart(key) {\n",
              "      const quickchartButtonEl =\n",
              "        document.querySelector('#' + key + ' button');\n",
              "      quickchartButtonEl.disabled = true;  // To prevent multiple clicks.\n",
              "      quickchartButtonEl.classList.add('colab-df-spinner');\n",
              "      try {\n",
              "        const charts = await google.colab.kernel.invokeFunction(\n",
              "            'suggestCharts', [key], {});\n",
              "      } catch (error) {\n",
              "        console.error('Error during call to suggestCharts:', error);\n",
              "      }\n",
              "      quickchartButtonEl.classList.remove('colab-df-spinner');\n",
              "      quickchartButtonEl.classList.add('colab-df-quickchart-complete');\n",
              "    }\n",
              "    (() => {\n",
              "      let quickchartButtonEl =\n",
              "        document.querySelector('#df-29e196b3-920e-4de1-96f1-0afb8b361fb0 button');\n",
              "      quickchartButtonEl.style.display =\n",
              "        google.colab.kernel.accessAllowed ? 'block' : 'none';\n",
              "    })();\n",
              "  </script>\n",
              "</div>\n",
              "\n",
              "  <div id=\"id_e5f875bf-d07b-40f9-bac6-d5bb4344e2f1\">\n",
              "    <style>\n",
              "      .colab-df-generate {\n",
              "        background-color: #E8F0FE;\n",
              "        border: none;\n",
              "        border-radius: 50%;\n",
              "        cursor: pointer;\n",
              "        display: none;\n",
              "        fill: #1967D2;\n",
              "        height: 32px;\n",
              "        padding: 0 0 0 0;\n",
              "        width: 32px;\n",
              "      }\n",
              "\n",
              "      .colab-df-generate:hover {\n",
              "        background-color: #E2EBFA;\n",
              "        box-shadow: 0px 1px 2px rgba(60, 64, 67, 0.3), 0px 1px 3px 1px rgba(60, 64, 67, 0.15);\n",
              "        fill: #174EA6;\n",
              "      }\n",
              "\n",
              "      [theme=dark] .colab-df-generate {\n",
              "        background-color: #3B4455;\n",
              "        fill: #D2E3FC;\n",
              "      }\n",
              "\n",
              "      [theme=dark] .colab-df-generate:hover {\n",
              "        background-color: #434B5C;\n",
              "        box-shadow: 0px 1px 3px 1px rgba(0, 0, 0, 0.15);\n",
              "        filter: drop-shadow(0px 1px 2px rgba(0, 0, 0, 0.3));\n",
              "        fill: #FFFFFF;\n",
              "      }\n",
              "    </style>\n",
              "    <button class=\"colab-df-generate\" onclick=\"generateWithVariable('comparision_df')\"\n",
              "            title=\"Generate code using this dataframe.\"\n",
              "            style=\"display:none;\">\n",
              "\n",
              "  <svg xmlns=\"http://www.w3.org/2000/svg\" height=\"24px\"viewBox=\"0 0 24 24\"\n",
              "       width=\"24px\">\n",
              "    <path d=\"M7,19H8.4L18.45,9,17,7.55,7,17.6ZM5,21V16.75L18.45,3.32a2,2,0,0,1,2.83,0l1.4,1.43a1.91,1.91,0,0,1,.58,1.4,1.91,1.91,0,0,1-.58,1.4L9.25,21ZM18.45,9,17,7.55Zm-12,3A5.31,5.31,0,0,0,4.9,8.1,5.31,5.31,0,0,0,1,6.5,5.31,5.31,0,0,0,4.9,4.9,5.31,5.31,0,0,0,6.5,1,5.31,5.31,0,0,0,8.1,4.9,5.31,5.31,0,0,0,12,6.5,5.46,5.46,0,0,0,6.5,12Z\"/>\n",
              "  </svg>\n",
              "    </button>\n",
              "    <script>\n",
              "      (() => {\n",
              "      const buttonEl =\n",
              "        document.querySelector('#id_e5f875bf-d07b-40f9-bac6-d5bb4344e2f1 button.colab-df-generate');\n",
              "      buttonEl.style.display =\n",
              "        google.colab.kernel.accessAllowed ? 'block' : 'none';\n",
              "\n",
              "      buttonEl.onclick = () => {\n",
              "        google.colab.notebook.generateWithVariable('comparision_df');\n",
              "      }\n",
              "      })();\n",
              "    </script>\n",
              "  </div>\n",
              "\n",
              "    </div>\n",
              "  </div>\n"
            ],
            "application/vnd.google.colaboratory.intrinsic+json": {
              "type": "dataframe",
              "variable_name": "comparision_df",
              "summary": "{\n  \"name\": \"comparision_df\",\n  \"rows\": 3,\n  \"fields\": [\n    {\n      \"column\": \"model_name\",\n      \"properties\": {\n        \"dtype\": \"category\",\n        \"num_unique_values\": 1,\n        \"samples\": [\n          \"ModelV1\"\n        ],\n        \"semantic_type\": \"\",\n        \"description\": \"\"\n      }\n    },\n    {\n      \"column\": \"learning_rate\",\n      \"properties\": {\n        \"dtype\": \"number\",\n        \"std\": 1.6996749443881478e-17,\n        \"min\": 0.1,\n        \"max\": 0.1,\n        \"num_unique_values\": 1,\n        \"samples\": [\n          0.1\n        ],\n        \"semantic_type\": \"\",\n        \"description\": \"\"\n      }\n    },\n    {\n      \"column\": \"epochs\",\n      \"properties\": {\n        \"dtype\": \"number\",\n        \"std\": 7,\n        \"min\": 5,\n        \"max\": 20,\n        \"num_unique_values\": 3,\n        \"samples\": [\n          5\n        ],\n        \"semantic_type\": \"\",\n        \"description\": \"\"\n      }\n    },\n    {\n      \"column\": \"optimizer\",\n      \"properties\": {\n        \"dtype\": \"category\",\n        \"num_unique_values\": 1,\n        \"samples\": [\n          \"SGD\"\n        ],\n        \"semantic_type\": \"\",\n        \"description\": \"\"\n      }\n    },\n    {\n      \"column\": \"train_loss\",\n      \"properties\": {\n        \"dtype\": \"number\",\n        \"std\": 0.08194694850338688,\n        \"min\": 1.0498414039611816,\n        \"max\": 1.213430643081665,\n        \"num_unique_values\": 3,\n        \"samples\": [\n          1.213430643081665\n        ],\n        \"semantic_type\": \"\",\n        \"description\": \"\"\n      }\n    },\n    {\n      \"column\": \"train_accuracy\",\n      \"properties\": {\n        \"dtype\": \"number\",\n        \"std\": 2.942301799156696,\n        \"min\": 57.28966730646193,\n        \"max\": 63.16978566858605,\n        \"num_unique_values\": 3,\n        \"samples\": [\n          57.28966730646193\n        ],\n        \"semantic_type\": \"\",\n        \"description\": \"\"\n      }\n    },\n    {\n      \"column\": \"test_loss\",\n      \"properties\": {\n        \"dtype\": \"number\",\n        \"std\": 0.03019668592249169,\n        \"min\": 1.2111352682113647,\n        \"max\": 1.2657772302627563,\n        \"num_unique_values\": 3,\n        \"samples\": [\n          1.2657772302627563\n        ],\n        \"semantic_type\": \"\",\n        \"description\": \"\"\n      }\n    },\n    {\n      \"column\": \"test_accuracy\",\n      \"properties\": {\n        \"dtype\": \"number\",\n        \"std\": 1.363334440466276,\n        \"min\": 55.60103833865815,\n        \"max\": 57.97723642172524,\n        \"num_unique_values\": 3,\n        \"samples\": [\n          55.60103833865815\n        ],\n        \"semantic_type\": \"\",\n        \"description\": \"\"\n      }\n    },\n    {\n      \"column\": \"time_taken\",\n      \"properties\": {\n        \"dtype\": \"number\",\n        \"std\": 90.88243146346294,\n        \"min\": 58.73629122499983,\n        \"max\": 237.083453813,\n        \"num_unique_values\": 3,\n        \"samples\": [\n          58.73629122499983\n        ],\n        \"semantic_type\": \"\",\n        \"description\": \"\"\n      }\n    },\n    {\n      \"column\": \"device\",\n      \"properties\": {\n        \"dtype\": \"category\",\n        \"num_unique_values\": 1,\n        \"samples\": [\n          \"cuda\"\n        ],\n        \"semantic_type\": \"\",\n        \"description\": \"\"\n      }\n    },\n    {\n      \"column\": \"comment\",\n      \"properties\": {\n        \"dtype\": \"string\",\n        \"num_unique_values\": 3,\n        \"samples\": [\n          \"Let's try increasing the epoch\"\n        ],\n        \"semantic_type\": \"\",\n        \"description\": \"\"\n      }\n    }\n  ]\n}"
            }
          },
          "metadata": {},
          "execution_count": 102
        }
      ]
    },
    {
      "cell_type": "markdown",
      "source": [
        "## 10.2 Data Augmentation"
      ],
      "metadata": {
        "id": "LtXu_v6BEm5c"
      }
    },
    {
      "cell_type": "code",
      "source": [
        "import torchvision.transforms as transforms\n",
        "\n",
        "# Define Data Augmentation for Training Set\n",
        "train_transform = transforms.Compose([\n",
        "    transforms.RandomHorizontalFlip(p=0.5),\n",
        "    transforms.RandomCrop(32, padding=4),\n",
        "    transforms.RandomRotation(15),\n",
        "    transforms.ColorJitter(brightness=0.2, contrast=0.2, saturation=0.2, hue=0.1),\n",
        "    transforms.ToTensor(),\n",
        "    transforms.Normalize(mean=[0.4914, 0.4822, 0.4465], std=[0.2470, 0.2435, 0.2616])\n",
        "])\n",
        "\n",
        "\n",
        "# Test Transform (No Augmentation)\n",
        "test_transform = transforms.Compose([\n",
        "    transforms.ToTensor(),\n",
        "    transforms.Normalize(mean=[0.4914, 0.4822, 0.4465], std=[0.2470, 0.2435, 0.2616])\n",
        "])\n"
      ],
      "metadata": {
        "id": "Q0GKwtNoEuG1"
      },
      "execution_count": null,
      "outputs": []
    },
    {
      "cell_type": "code",
      "source": [
        "from torchvision import datasets\n",
        "from torch.utils.data import DataLoader\n",
        "\n",
        "# Load the dataset with augmentation for training set\n",
        "train_dataset = datasets.CIFAR10(root=\"data\", train=True, transform=train_transform, download=True)\n",
        "test_dataset = datasets.CIFAR10(root=\"data\", train=False, transform=test_transform, download=True)\n",
        "\n",
        "# Create DataLoaders\n",
        "BATCH_SIZE = 32\n",
        "\n",
        "train_dataloader = DataLoader(dataset=train_dataset, batch_size=BATCH_SIZE, shuffle=True)\n",
        "test_dataloader = DataLoader(dataset=test_dataset, batch_size=BATCH_SIZE, shuffle=False)\n"
      ],
      "metadata": {
        "id": "4gJOgprlFtJi"
      },
      "execution_count": null,
      "outputs": []
    },
    {
      "cell_type": "code",
      "source": [
        "len(train_dataloader)"
      ],
      "metadata": {
        "colab": {
          "base_uri": "https://localhost:8080/"
        },
        "id": "yXIs197TGmMp",
        "outputId": "5ff04388-ad45-45f1-fde7-655db64fb3f6"
      },
      "execution_count": null,
      "outputs": [
        {
          "output_type": "execute_result",
          "data": {
            "text/plain": [
              "1563"
            ]
          },
          "metadata": {},
          "execution_count": 107
        }
      ]
    },
    {
      "cell_type": "code",
      "source": [
        "# Epoch: 20\n",
        "\n",
        "modelV1_3 = ModelV1(input_units=3,\n",
        "                  hidden_units=10,\n",
        "                  output_units=len(class_names)).to(device)\n",
        "\n",
        "learning_rate = 0.1\n",
        "optimizer = torch.optim.SGD(params=modelV1_3.parameters(), lr=learning_rate)\n",
        "\n",
        "epochs = 9\n",
        "\n",
        "start_time_1 = timer()\n",
        "\n",
        "for epoch in tqdm(range(epochs)):\n",
        "  print(f\"--- Epoch: {epoch} ---\")\n",
        "  train_acc, train_loss = training_loop(model=modelV1_3,\n",
        "                dataloader=train_dataloader,\n",
        "                loss_fn=loss_fn,\n",
        "                accuracy_fn=accuracy_fn,\n",
        "                optimizer=optimizer,\n",
        "                device=device)\n",
        "\n",
        "  test_acc, test_loss = testing_loop(model=modelV1_3,\n",
        "              dataloader=test_dataloader,\n",
        "              loss_fn=loss_fn,\n",
        "              accuracy_fn=accuracy_fn,\n",
        "              device=device)\n",
        "  print(\"-------------------------------\")\n",
        "\n",
        "  # Store metrics\n",
        "  train_losses.append(train_loss.item())\n",
        "  test_losses.append(test_loss.item())\n",
        "  train_accuracies.append(train_acc)\n",
        "  test_accuracies.append(test_acc)\n",
        "\n",
        "\n",
        "end_timer_1 = timer()\n",
        "\n",
        "# Plot the metrics\n",
        "plot_metrics(train_losses, test_losses, train_accuracies, test_accuracies)\n",
        "\n",
        "total_time_model_V1 = print_time(start=start_time_1, end=end_timer_1, device=device)"
      ],
      "metadata": {
        "colab": {
          "base_uri": "https://localhost:8080/",
          "height": 1000,
          "referenced_widgets": [
            "fb923208d6cf472c9ffca87c77c6b29c",
            "18f090fbead34eb4b4e10b9b7ca30c2c",
            "2b5fef7e8a4c441d84797f164bed1ac4",
            "0bf507df99b043a6935b86078476415e",
            "a67f730f75684184aae76501a0d2eed1",
            "f57428b0adc34ff29be0276d60c4c522",
            "dc92dab27ae34550971da4c87b60db5d",
            "e554f378773f41dab05529c61d2d37e7",
            "5a42640839214f30adc5aea3f708a647",
            "276f2e7501aa4eaf86f6c0259ca69daa",
            "63337ddcc4e04bb9a13ef1f324e1acdd"
          ]
        },
        "id": "VX7hMpkqGO5i",
        "outputId": "b79063e2-ef2f-4776-84af-84421c689f44"
      },
      "execution_count": null,
      "outputs": [
        {
          "output_type": "display_data",
          "data": {
            "text/plain": [
              "  0%|          | 0/20 [00:00<?, ?it/s]"
            ],
            "application/vnd.jupyter.widget-view+json": {
              "version_major": 2,
              "version_minor": 0,
              "model_id": "fb923208d6cf472c9ffca87c77c6b29c"
            }
          },
          "metadata": {}
        },
        {
          "output_type": "stream",
          "name": "stdout",
          "text": [
            "--- Epoch: 0 ---\n",
            "0 BATCH HAS BEEN COMPLETED..\n",
            "200 BATCH HAS BEEN COMPLETED..\n",
            "400 BATCH HAS BEEN COMPLETED..\n",
            "600 BATCH HAS BEEN COMPLETED..\n",
            "800 BATCH HAS BEEN COMPLETED..\n",
            "1000 BATCH HAS BEEN COMPLETED..\n",
            "1200 BATCH HAS BEEN COMPLETED..\n",
            "1400 BATCH HAS BEEN COMPLETED..\n",
            "Train Loss: 1.91962 | Train Accuracy: 29.30%\n",
            "Test Loss: 1.64972 || Test Accuracy: 40.55%\n",
            "-------------------------------\n",
            "--- Epoch: 1 ---\n",
            "0 BATCH HAS BEEN COMPLETED..\n",
            "200 BATCH HAS BEEN COMPLETED..\n",
            "400 BATCH HAS BEEN COMPLETED..\n",
            "600 BATCH HAS BEEN COMPLETED..\n",
            "800 BATCH HAS BEEN COMPLETED..\n",
            "1000 BATCH HAS BEEN COMPLETED..\n",
            "1200 BATCH HAS BEEN COMPLETED..\n",
            "1400 BATCH HAS BEEN COMPLETED..\n",
            "Train Loss: 1.67793 | Train Accuracy: 38.90%\n",
            "Test Loss: 1.72909 || Test Accuracy: 40.32%\n",
            "-------------------------------\n",
            "--- Epoch: 2 ---\n",
            "0 BATCH HAS BEEN COMPLETED..\n",
            "200 BATCH HAS BEEN COMPLETED..\n",
            "400 BATCH HAS BEEN COMPLETED..\n",
            "600 BATCH HAS BEEN COMPLETED..\n",
            "800 BATCH HAS BEEN COMPLETED..\n",
            "1000 BATCH HAS BEEN COMPLETED..\n",
            "1200 BATCH HAS BEEN COMPLETED..\n",
            "1400 BATCH HAS BEEN COMPLETED..\n",
            "Train Loss: 1.59888 | Train Accuracy: 41.99%\n",
            "Test Loss: 1.37703 || Test Accuracy: 49.89%\n",
            "-------------------------------\n",
            "--- Epoch: 3 ---\n",
            "0 BATCH HAS BEEN COMPLETED..\n",
            "200 BATCH HAS BEEN COMPLETED..\n",
            "400 BATCH HAS BEEN COMPLETED..\n",
            "600 BATCH HAS BEEN COMPLETED..\n",
            "800 BATCH HAS BEEN COMPLETED..\n",
            "1000 BATCH HAS BEEN COMPLETED..\n",
            "1200 BATCH HAS BEEN COMPLETED..\n",
            "1400 BATCH HAS BEEN COMPLETED..\n",
            "Train Loss: 1.55434 | Train Accuracy: 43.68%\n",
            "Test Loss: 1.48685 || Test Accuracy: 48.59%\n",
            "-------------------------------\n",
            "--- Epoch: 4 ---\n",
            "0 BATCH HAS BEEN COMPLETED..\n",
            "200 BATCH HAS BEEN COMPLETED..\n",
            "400 BATCH HAS BEEN COMPLETED..\n",
            "600 BATCH HAS BEEN COMPLETED..\n",
            "800 BATCH HAS BEEN COMPLETED..\n",
            "1000 BATCH HAS BEEN COMPLETED..\n",
            "1200 BATCH HAS BEEN COMPLETED..\n",
            "1400 BATCH HAS BEEN COMPLETED..\n",
            "Train Loss: 1.52050 | Train Accuracy: 44.98%\n",
            "Test Loss: 1.34430 || Test Accuracy: 51.00%\n",
            "-------------------------------\n",
            "--- Epoch: 5 ---\n",
            "0 BATCH HAS BEEN COMPLETED..\n",
            "200 BATCH HAS BEEN COMPLETED..\n",
            "400 BATCH HAS BEEN COMPLETED..\n",
            "600 BATCH HAS BEEN COMPLETED..\n",
            "800 BATCH HAS BEEN COMPLETED..\n",
            "1000 BATCH HAS BEEN COMPLETED..\n",
            "1200 BATCH HAS BEEN COMPLETED..\n",
            "1400 BATCH HAS BEEN COMPLETED..\n",
            "Train Loss: 1.50679 | Train Accuracy: 45.57%\n",
            "Test Loss: 1.54169 || Test Accuracy: 47.76%\n",
            "-------------------------------\n",
            "--- Epoch: 6 ---\n",
            "0 BATCH HAS BEEN COMPLETED..\n",
            "200 BATCH HAS BEEN COMPLETED..\n",
            "400 BATCH HAS BEEN COMPLETED..\n",
            "600 BATCH HAS BEEN COMPLETED..\n",
            "800 BATCH HAS BEEN COMPLETED..\n",
            "1000 BATCH HAS BEEN COMPLETED..\n",
            "1200 BATCH HAS BEEN COMPLETED..\n",
            "1400 BATCH HAS BEEN COMPLETED..\n",
            "Train Loss: 1.48771 | Train Accuracy: 46.52%\n",
            "Test Loss: 1.31886 || Test Accuracy: 52.28%\n",
            "-------------------------------\n",
            "--- Epoch: 7 ---\n",
            "0 BATCH HAS BEEN COMPLETED..\n",
            "200 BATCH HAS BEEN COMPLETED..\n",
            "400 BATCH HAS BEEN COMPLETED..\n",
            "600 BATCH HAS BEEN COMPLETED..\n",
            "800 BATCH HAS BEEN COMPLETED..\n",
            "1000 BATCH HAS BEEN COMPLETED..\n",
            "1200 BATCH HAS BEEN COMPLETED..\n",
            "1400 BATCH HAS BEEN COMPLETED..\n",
            "Train Loss: 1.47004 | Train Accuracy: 47.13%\n",
            "Test Loss: 1.42018 || Test Accuracy: 50.34%\n",
            "-------------------------------\n",
            "--- Epoch: 8 ---\n",
            "0 BATCH HAS BEEN COMPLETED..\n",
            "200 BATCH HAS BEEN COMPLETED..\n",
            "400 BATCH HAS BEEN COMPLETED..\n",
            "600 BATCH HAS BEEN COMPLETED..\n",
            "800 BATCH HAS BEEN COMPLETED..\n",
            "1000 BATCH HAS BEEN COMPLETED..\n",
            "1200 BATCH HAS BEEN COMPLETED..\n",
            "1400 BATCH HAS BEEN COMPLETED..\n",
            "Train Loss: 1.46236 | Train Accuracy: 47.27%\n",
            "Test Loss: 1.30635 || Test Accuracy: 53.66%\n",
            "-------------------------------\n",
            "--- Epoch: 9 ---\n",
            "0 BATCH HAS BEEN COMPLETED..\n",
            "200 BATCH HAS BEEN COMPLETED..\n",
            "400 BATCH HAS BEEN COMPLETED..\n",
            "600 BATCH HAS BEEN COMPLETED..\n",
            "800 BATCH HAS BEEN COMPLETED..\n",
            "1000 BATCH HAS BEEN COMPLETED..\n",
            "1200 BATCH HAS BEEN COMPLETED..\n",
            "1400 BATCH HAS BEEN COMPLETED..\n",
            "Train Loss: 1.44981 | Train Accuracy: 48.02%\n",
            "Test Loss: 1.26436 || Test Accuracy: 54.75%\n",
            "-------------------------------\n",
            "--- Epoch: 10 ---\n",
            "0 BATCH HAS BEEN COMPLETED..\n",
            "200 BATCH HAS BEEN COMPLETED..\n",
            "400 BATCH HAS BEEN COMPLETED..\n",
            "600 BATCH HAS BEEN COMPLETED..\n",
            "800 BATCH HAS BEEN COMPLETED..\n",
            "1000 BATCH HAS BEEN COMPLETED..\n",
            "1200 BATCH HAS BEEN COMPLETED..\n",
            "1400 BATCH HAS BEEN COMPLETED..\n",
            "Train Loss: 1.44586 | Train Accuracy: 48.32%\n",
            "Test Loss: 1.39855 || Test Accuracy: 50.16%\n",
            "-------------------------------\n",
            "--- Epoch: 11 ---\n",
            "0 BATCH HAS BEEN COMPLETED..\n",
            "200 BATCH HAS BEEN COMPLETED..\n",
            "400 BATCH HAS BEEN COMPLETED..\n",
            "600 BATCH HAS BEEN COMPLETED..\n",
            "800 BATCH HAS BEEN COMPLETED..\n",
            "1000 BATCH HAS BEEN COMPLETED..\n",
            "1200 BATCH HAS BEEN COMPLETED..\n",
            "1400 BATCH HAS BEEN COMPLETED..\n",
            "Train Loss: 1.43402 | Train Accuracy: 48.57%\n",
            "Test Loss: 1.34185 || Test Accuracy: 53.54%\n",
            "-------------------------------\n",
            "--- Epoch: 12 ---\n",
            "0 BATCH HAS BEEN COMPLETED..\n",
            "200 BATCH HAS BEEN COMPLETED..\n",
            "400 BATCH HAS BEEN COMPLETED..\n",
            "600 BATCH HAS BEEN COMPLETED..\n",
            "800 BATCH HAS BEEN COMPLETED..\n",
            "1000 BATCH HAS BEEN COMPLETED..\n",
            "1200 BATCH HAS BEEN COMPLETED..\n",
            "1400 BATCH HAS BEEN COMPLETED..\n",
            "Train Loss: 1.43062 | Train Accuracy: 48.50%\n",
            "Test Loss: 1.33162 || Test Accuracy: 52.18%\n",
            "-------------------------------\n",
            "--- Epoch: 13 ---\n",
            "0 BATCH HAS BEEN COMPLETED..\n",
            "200 BATCH HAS BEEN COMPLETED..\n",
            "400 BATCH HAS BEEN COMPLETED..\n",
            "600 BATCH HAS BEEN COMPLETED..\n",
            "800 BATCH HAS BEEN COMPLETED..\n",
            "1000 BATCH HAS BEEN COMPLETED..\n",
            "1200 BATCH HAS BEEN COMPLETED..\n",
            "1400 BATCH HAS BEEN COMPLETED..\n",
            "Train Loss: 1.42922 | Train Accuracy: 48.50%\n",
            "Test Loss: 1.32324 || Test Accuracy: 53.90%\n",
            "-------------------------------\n",
            "--- Epoch: 14 ---\n",
            "0 BATCH HAS BEEN COMPLETED..\n",
            "200 BATCH HAS BEEN COMPLETED..\n",
            "400 BATCH HAS BEEN COMPLETED..\n",
            "600 BATCH HAS BEEN COMPLETED..\n",
            "800 BATCH HAS BEEN COMPLETED..\n",
            "1000 BATCH HAS BEEN COMPLETED..\n",
            "1200 BATCH HAS BEEN COMPLETED..\n",
            "1400 BATCH HAS BEEN COMPLETED..\n",
            "Train Loss: 1.42816 | Train Accuracy: 48.87%\n",
            "Test Loss: 1.34391 || Test Accuracy: 51.70%\n",
            "-------------------------------\n",
            "--- Epoch: 15 ---\n",
            "0 BATCH HAS BEEN COMPLETED..\n",
            "200 BATCH HAS BEEN COMPLETED..\n",
            "400 BATCH HAS BEEN COMPLETED..\n",
            "600 BATCH HAS BEEN COMPLETED..\n",
            "800 BATCH HAS BEEN COMPLETED..\n",
            "1000 BATCH HAS BEEN COMPLETED..\n",
            "1200 BATCH HAS BEEN COMPLETED..\n",
            "1400 BATCH HAS BEEN COMPLETED..\n",
            "Train Loss: 1.42301 | Train Accuracy: 48.78%\n",
            "Test Loss: 1.23001 || Test Accuracy: 55.92%\n",
            "-------------------------------\n",
            "--- Epoch: 16 ---\n",
            "0 BATCH HAS BEEN COMPLETED..\n",
            "200 BATCH HAS BEEN COMPLETED..\n",
            "400 BATCH HAS BEEN COMPLETED..\n",
            "600 BATCH HAS BEEN COMPLETED..\n",
            "800 BATCH HAS BEEN COMPLETED..\n",
            "1000 BATCH HAS BEEN COMPLETED..\n",
            "1200 BATCH HAS BEEN COMPLETED..\n",
            "1400 BATCH HAS BEEN COMPLETED..\n",
            "Train Loss: 1.40896 | Train Accuracy: 49.28%\n",
            "Test Loss: 1.60640 || Test Accuracy: 47.13%\n",
            "-------------------------------\n",
            "--- Epoch: 17 ---\n",
            "0 BATCH HAS BEEN COMPLETED..\n",
            "200 BATCH HAS BEEN COMPLETED..\n",
            "400 BATCH HAS BEEN COMPLETED..\n",
            "600 BATCH HAS BEEN COMPLETED..\n",
            "800 BATCH HAS BEEN COMPLETED..\n",
            "1000 BATCH HAS BEEN COMPLETED..\n",
            "1200 BATCH HAS BEEN COMPLETED..\n",
            "1400 BATCH HAS BEEN COMPLETED..\n",
            "Train Loss: 1.41198 | Train Accuracy: 49.43%\n",
            "Test Loss: 1.26160 || Test Accuracy: 54.36%\n",
            "-------------------------------\n",
            "--- Epoch: 18 ---\n",
            "0 BATCH HAS BEEN COMPLETED..\n",
            "200 BATCH HAS BEEN COMPLETED..\n",
            "400 BATCH HAS BEEN COMPLETED..\n",
            "600 BATCH HAS BEEN COMPLETED..\n",
            "800 BATCH HAS BEEN COMPLETED..\n",
            "1000 BATCH HAS BEEN COMPLETED..\n",
            "1200 BATCH HAS BEEN COMPLETED..\n",
            "1400 BATCH HAS BEEN COMPLETED..\n",
            "Train Loss: 1.41540 | Train Accuracy: 49.53%\n",
            "Test Loss: 1.24649 || Test Accuracy: 55.53%\n",
            "-------------------------------\n",
            "--- Epoch: 19 ---\n",
            "0 BATCH HAS BEEN COMPLETED..\n",
            "200 BATCH HAS BEEN COMPLETED..\n",
            "400 BATCH HAS BEEN COMPLETED..\n",
            "600 BATCH HAS BEEN COMPLETED..\n",
            "800 BATCH HAS BEEN COMPLETED..\n",
            "1000 BATCH HAS BEEN COMPLETED..\n",
            "1200 BATCH HAS BEEN COMPLETED..\n",
            "1400 BATCH HAS BEEN COMPLETED..\n",
            "Train Loss: 1.41547 | Train Accuracy: 49.35%\n",
            "Test Loss: 1.27329 || Test Accuracy: 54.49%\n",
            "-------------------------------\n"
          ]
        },
        {
          "output_type": "display_data",
          "data": {
            "text/plain": [
              "<Figure size 1200x500 with 2 Axes>"
            ],
            "image/png": "[encoded data removed]"
          },
          "metadata": {}
        },
        {
          "output_type": "stream",
          "name": "stdout",
          "text": [
            "Total time taken on cuda: 1059.631 seconds\n"
          ]
        }
      ]
    },
    {
      "cell_type": "code",
      "source": [
        "eval_model_V1_3 = evaluation(model=modelV1_3,\n",
        "                             train_acc=train_acc,\n",
        "                              train_loss=train_loss,\n",
        "                              test_acc=test_acc,\n",
        "                              test_loss=test_loss,\n",
        "                              epochs=epochs,\n",
        "                              learning_rate=learning_rate,\n",
        "                              optimizer_name='SGD',\n",
        "                              time_taken=total_time_model_V1,\n",
        "                              device=device)"
      ],
      "metadata": {
        "id": "yc5GZPblHXch"
      },
      "execution_count": null,
      "outputs": []
    },
    {
      "cell_type": "markdown",
      "source": [
        "### **Different Architectures:**\n",
        "\n",
        "- **ResNet:** A deeper but efficient model that often generalizes well.\n",
        "- **MobileNet:** A lightweight model that works well on CIFAR-10 with good accuracy.\n",
        "- **EfficientNet:** Scales well and has strong generalization capabilities"
      ],
      "metadata": {
        "id": "uvG2FzTlA0fu"
      }
    },
    {
      "cell_type": "code",
      "source": [
        "# VGG19\n",
        "\n",
        "class ModelV2(nn.Module):\n",
        "  def __init__(self,\n",
        "               input_units,\n",
        "               hidden_units,\n",
        "               output_units):\n",
        "     super().__init__()\n",
        "\n",
        "     self.conv_block_1 = nn.Sequential(\n",
        "         nn.Conv2d(in_channels=input_units,\n",
        "                  out_channels=hidden_units,\n",
        "                  kernel_size=3,\n",
        "                  padding=1,\n",
        "                  stride=1),\n",
        "         nn.Conv2d(in_channels=hidden_units,\n",
        "                  out_channels=hidden_units,\n",
        "                  kernel_size=3,\n",
        "                  padding=1,\n",
        "                  stride=1),\n",
        "\n",
        "     )\n",
        "\n",
        "\n",
        "\n"
      ],
      "metadata": {
        "id": "3FC0dNUTA0Ce"
      },
      "execution_count": null,
      "outputs": []
    },
    {
      "cell_type": "code",
      "source": [],
      "metadata": {
        "id": "btrsU-PYAyFq"
      },
      "execution_count": null,
      "outputs": []
    }
  ]
}